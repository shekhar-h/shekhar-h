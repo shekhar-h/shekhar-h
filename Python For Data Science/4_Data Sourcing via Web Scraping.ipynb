{
 "cells": [
  {
   "cell_type": "raw",
   "id": "8a10aba7",
   "metadata": {},
   "source": [
    "Webscraping Use Cases:\n",
    "    Ecommerce Store Automation\n",
    "    Hydrological Analysis\n",
    "    Emergency Resource Allocation Planning\n",
    "    Oil and Gas Production Intel\n",
    "    "
   ]
  },
  {
   "cell_type": "raw",
   "id": "23fb882d",
   "metadata": {},
   "source": [
    "Four BeautifulSoup Object Types:\n",
    "    1. BeautifulSOup object \n",
    "        - This is a representation of the document you are scraping as a whole.\n",
    "        - Easily navigatable and searchable\n",
    "    2. Tag Object\n",
    "        - This corresponds to XML and HTML elements in an original document.\n",
    "        - Can navigate and reference data using tag attributes\n",
    "    3. NavigatableString object\n",
    "        - This is to add a bit of text within a tag.\n",
    "        - BeautifulSoup uses the NavigatableString class as a container for bits of text\n",
    "    4. Comment object\n",
    "        - A type of NavigatableString object that you can use for commenting your code"
   ]
  },
  {
   "cell_type": "markdown",
   "id": "1f2c78ae",
   "metadata": {},
   "source": [
    "### Segment 1 - Objects in BeautifulSoup"
   ]
  },
  {
   "cell_type": "code",
   "execution_count": 3,
   "id": "b8c7f8e5",
   "metadata": {},
   "outputs": [
    {
     "name": "stdout",
     "output_type": "stream",
     "text": [
      "3.11.3 | packaged by Anaconda, Inc. | (main, Apr 19 2023, 23:46:34) [MSC v.1916 64 bit (AMD64)]\n"
     ]
    }
   ],
   "source": [
    "import sys\n",
    "print(sys.version)"
   ]
  },
  {
   "cell_type": "code",
   "execution_count": 2,
   "id": "29fbb1d7",
   "metadata": {},
   "outputs": [],
   "source": [
    "from bs4 import BeautifulSoup"
   ]
  },
  {
   "cell_type": "markdown",
   "id": "3c645745",
   "metadata": {},
   "source": [
    "#### BeautifulSoup Objects"
   ]
  },
  {
   "cell_type": "code",
   "execution_count": 3,
   "id": "066bb4e6",
   "metadata": {},
   "outputs": [],
   "source": [
    "our_html_document = '''\n",
    "<html><head><title>IoT Articles</title></head>\n",
    "<body>\n",
    "<p class='title'><b>2018 Trends: Best New IoT Device Ideas for Data Scientists and Engineers</b></p>\n",
    "\n",
    "<p class='description'>It’s almost 2018 and IoT is on the cusp of an explosive expansion. In this article, I offer you a listing of new IoT device ideas that you can use...\n",
    "<br>\n",
    "<br>\n",
    "It’s almost 2018 and IoT is on the cusp of an explosive expansion. In this article, I offer you a listing of new IoT device ideas that you can use to get practice in designing your first IoT applications.\n",
    "<h1>Looking Back at My Coolest IoT Find in 2017</h1>\n",
    "Before going into detail about best new IoT device ideas, here’s the backstory. <span style=\"text-decoration: underline;\"><strong><a href=\"http://bit.ly/LPlNDJj\">Last month Ericsson Digital invited me</a></strong></span> to tour the Ericsson Studio in Kista, Sweden. Up until that visit, <a href=\"http://www.data-mania.com/blog/m2m-vs-iot/\">IoT</a> had been largely theoretical to me. Of course, I know the usual mumbo-jumbo about wearables and IoT-connected fitness trackers. That stuff is all well and good, but it’s somewhat old hat – plus I am not sure we are really benefiting so much from those, so I’m not that impressed.\n",
    "\n",
    "It wasn’t until I got to the Ericsson Studio that I became extremely impressed by how far IoT has really come. Relying on the promise of the 5g network expansion, IoT-powered smart devices are on the cusp of an explosive growth in adoption. It was Ericsson’s Smart Car that sent me reeling:<a href=\"bit.ly/LPlNDJj\"><img class=\"aligncenter size-full wp-image-3802\" src=\"http://www.data-mania.com/blog/wp-content/uploads/2017/12/new-IoT-device-ideas.jpg\" alt=\"Get your new iot device ideas here\" width=\"1024\" height=\"683\" /></a>\n",
    "\n",
    "This car is connected to Ericsson’s Connected Vehicle Cloud, an IoT platform that manages services for the Smart Cars to which it’s connected. The Volvo pictured above acts as a drop-off location for groceries that have been ordered by its owner.\n",
    "\n",
    "To understand how it works, imagine you’re pulling your normal 9-to-5 and you know you need to grab some groceries on your way home. Well, since you’re smart you’ve used Ericsson IoT platform to connect your car to the local grocery delivery service (<a href=\"http://mat.se/\">Mat.se</a>), so all you need to do is open the Mat.se app and make your usual order. Mat.se automatically handles the payment, grocery selection, delivery, and delivery scheduling. Since your car is IoT-enabled, Mat.se issues its trusted delivery agent a 1-time token to use for opening your car in order to place your groceries in your car for you at 4:40 pm (just before you get off from work).\n",
    "\n",
    "To watch some of the amazing IoT device demos I witnessed at Ericsson Studio, make sure to go <span style=\"text-decoration: underline;\"><strong><a href=\"http://bit.ly/LPlNDJj\">watch the videos on this page</a></strong></span>.\n",
    "<h1>Future Trends for IoT in 2018</h1>\n",
    "New IoT device ideas won’t do you much good unless you at least know the basic technology trends that are set to impact IoT over the next year(s). These include:\n",
    "<ol>\n",
    " \t<li><strong>Big Data</strong> &amp; Data Engineering: Sensors that are embedded within IoT devices spin off machine-generated data like it’s going out of style. For IoT to function, the platform must be solidly engineered to handle big data. Be assured, that requires some serious data engineering.</li>\n",
    " \t<li><strong>Machine Learning</strong> Data Science: While a lot of IoT devices are still operated according to rules-based decision criteria, the age of artificial intelligence is upon us. IoT will increasingly depend on machine learning algorithms to control device operations so that devices are able to autonomously respond to a complex set of overlapping stimuli.</li>\n",
    " \t<li><strong>Blockchain</strong>-Enabled Security: Above all else, IoT networks must be secure. Blockchain technology is primed to meet the security demands that come along with building and expanding the IoT.</li>\n",
    "</ol>\n",
    "<h1>Best New IoT Device Ideas</h1>\n",
    "This listing of new IoT device ideas has been sub-divided according to the main technology upon which the IoT devices are built. Below I’m providing a list of new IoT device ideas, but for detailed instructions on how to build these IoT applications, I recommend the <a href=\"https://click.linksynergy.com/deeplink?id=*JDLXjeE*wk&amp;mid=39197&amp;murl=https%3A%2F%2Fwww.udemy.com%2Ftopic%2Finternet-of-things%2F%3Fsort%3Dhighest-rated\">IoT courses on Udemy</a> (ß Please note: if you purchase a Udemy course through this link, I may receive a small commission), or courses that are available at <a href=\"http://www.skyfilabs.com/iot-online-courses\">SkyFi</a> and <a href=\"https://www.coursera.org/specializations/iot\">Coursera</a>.\n",
    "<h2>Raspberry Pi IoT Ideas</h2>\n",
    "Using Raspberry Pi as open-source hardware, you can build IoT applications that offer any one of the following benefits:\n",
    "<ol>\n",
    " \t<li>Enable built-in sensing to build a weather station that measures ambient temperature and humidity</li>\n",
    " \t<li>Build a system that detects discrepancies in electrical readings to identify electricity theft</li>\n",
    " \t<li>Use IoT to build a Servo that is controlled by motion detection readings</li>\n",
    " \t<li>Build a smart control switch that operates devices based on external stimuli. Use this for home automation.</li>\n",
    " \t<li>Build a music playing application that enables music for each room in your house</li>\n",
    " \t<li>Implement biometrics on IoT-connected devices</li>\n",
    "</ol>\n",
    "<h2>Arduino IoT Ideas</h2>\n",
    "There are a number of new IoT device ideas that deploy Arduino as a microcontroller. These include:\n",
    "<ol>\n",
    " \t<li>Integrate Arduino with Android to build a remote-control RGB LED device.</li>\n",
    " \t<li>Connect PIR sensors across the IoT to implement a smart building.</li>\n",
    " \t<li>Build a temperature and sunlight sensor system to remotely monitor and control the conditions of your garden.</li>\n",
    " \t<li>Deploy Arduino and IoT to automate your neighborhood streetlights.</li>\n",
    " \t<li>Build a smart irrigation system based on IoT-connected temperature and moisture sensors built-in to your agricultural plants.</li>\n",
    "</ol>\n",
    "[caption id=\"attachment_3807\" align=\"aligncenter\" width=\"300\"]<a href=\"bit.ly/LPlNDJj\"><img class=\"wp-image-3807 size-medium\" src=\"http://www.data-mania.com/blog/wp-content/uploads/2017/12/IMG_3058-300x295.jpg\" alt=\"\" width=\"300\" height=\"295\" /></a> An IoT Chatbot Tree at the Ericsson Studio[/caption]\n",
    "<h2>Wireless (GSM) IoT Ideas</h2>\n",
    "Several new IoT device ideas are developed around the GSM wireless network. Those are:\n",
    "<ol>\n",
    " \t<li>Monitor soil moisture to automate agricultural irrigation cycles.</li>\n",
    " \t<li>Automate and control the conditions of a greenhouse.</li>\n",
    " \t<li>Enable bio-metrics to build a smart security system for your home or office building</li>\n",
    " \t<li>Build an autonomously operating fitness application that automatically makes recommendations based on motion detection and heart rate sensors that are embedded on wearable fitness trackers.</li>\n",
    " \t<li>Build a healthcare monitoring system that tracks, informs, and automatically alerts healthcare providers based on sensor readings that describe a patients vital statistics (like temperature, pulse, blood pressure, etc).</li>\n",
    "</ol>\n",
    "<h2>IoT Automation Ideas</h2>\n",
    "Almost all new IoT device ideas offer automation benefits, but to outline a few more ideas:\n",
    "<ol>\n",
    " \t<li>Build an IoT device that automatically locates and reports the closest nearby parking spot.</li>\n",
    " \t<li>Build a motion detection system that automatically issues emails or sms messages to alert home owners of a likely home invasion.</li>\n",
    " \t<li>Use temperature sensors connected across the IoT to automatically alert you if your home windows or doors have been left open.</li>\n",
    " \t<li>Use bio-metric sensors to build a smart system that automate security for your home or office building</li>\n",
    "</ol>\n",
    "To learn more about IoT and what’s happening on the leading edge, be sure to pop over to Ericsson’s Studio Tour recap and <span style=\"text-decoration: underline;\"><strong><a href=\"http://bit.ly/LPlNDJj\">watch these videos</a></strong></span>.\n",
    "\n",
    "<em>(I captured some of this content on behalf of DevMode Strategies during an invite-only tour of the Ericsson Studio in Kista. Rest assure, the text and opinions are my own</em>)\n",
    "<p class='description'>...</p>\n",
    "'''"
   ]
  },
  {
   "cell_type": "raw",
   "id": "e4f05539",
   "metadata": {},
   "source": [
    "By default the constructor will attempt to detect what parser type we need based on the document passed."
   ]
  },
  {
   "cell_type": "code",
   "execution_count": 4,
   "id": "1cb56578",
   "metadata": {},
   "outputs": [
    {
     "name": "stdout",
     "output_type": "stream",
     "text": [
      "\n",
      "<html><head><title>IoT Articles</title></head>\n",
      "<body>\n",
      "<p class=\"title\"><b>2018 Trends: Best New IoT Device Ideas for Data Scientists and Engineers</b></p>\n",
      "<p class=\"description\">It’s almost 2018 and IoT is on the cusp of an explosive expansion. In this article, I offer you a listing of new IoT device ideas that you can use...\n",
      "<br/>\n",
      "<br/>\n",
      "It’s almost 2018 and IoT is on the cusp of an explosive expansion. In this article, I offer you a listing of new IoT device ideas that you can use to get practice in designing your first IoT applications.\n",
      "<h1>Looking Back at My Coolest IoT Find in 2017</h1>\n",
      "Before going into detail about best new IoT device ideas, here’s the backstory. <span style=\"text-decoration: underline;\"><strong><a href=\"http://bit.ly/LPlNDJj\">Last month Ericsson Digital invited me</a></strong></span> to tour the Ericsson Studio in Kista, Sweden. Up until that visit, <a href=\"http://www.data-mania.com/blog/m2m-vs-iot/\">IoT</a> had been largely theoretical to me. Of course, I know the usual mumbo-jumbo about wearables and IoT-connected fitness trackers. That stuff is all well and good, but it’s somewhat old hat – plus I am not sure we are really benefiting so much from those, so I’m not that impressed.\n",
      "\n",
      "It wasn’t until I got to the Ericsson Studio that I became extremely impressed by how far IoT has really come. Relying on the promise of the 5g network expansion, IoT-powered smart devices are on the cusp of an explosive growth in adoption. It was Ericsson’s Smart Car that sent me reeling:<a href=\"bit.ly/LPlNDJj\"><img alt=\"Get your new iot device ideas here\" class=\"aligncenter size-full wp-image-3802\" height=\"683\" src=\"http://www.data-mania.com/blog/wp-content/uploads/2017/12/new-IoT-device-ideas.jpg\" width=\"1024\"/></a>\n",
      "\n",
      "This car is connected to Ericsson’s Connected Vehicle Cloud, an IoT platform that manages services for the Smart Cars to which it’s connected. The Volvo pictured above acts as a drop-off location for groceries that have been ordered by its owner.\n",
      "\n",
      "To understand how it works, imagine you’re pulling your normal 9-to-5 and you know you need to grab some groceries on your way home. Well, since you’re smart you’ve used Ericsson IoT platform to connect your car to the local grocery delivery service (<a href=\"http://mat.se/\">Mat.se</a>), so all you need to do is open the Mat.se app and make your usual order. Mat.se automatically handles the payment, grocery selection, delivery, and delivery scheduling. Since your car is IoT-enabled, Mat.se issues its trusted delivery agent a 1-time token to use for opening your car in order to place your groceries in your car for you at 4:40 pm (just before you get off from work).\n",
      "\n",
      "To watch some of the amazing IoT device demos I witnessed at Ericsson Studio, make sure to go <span style=\"text-decoration: underline;\"><strong><a href=\"http://bit.ly/LPlNDJj\">watch the videos on this page</a></strong></span>.\n",
      "<h1>Future Trends for IoT in 2018</h1>\n",
      "New IoT device ideas won’t do you much good unless you at least know the basic technology trends that are set to impact IoT over the next year(s). These include:\n",
      "<ol>\n",
      "<li><strong>Big Data</strong> &amp; Data Engineering: Sensors that are embedded within IoT devices spin off machine-generated data like it’s going out of style. For IoT to function, the platform must be solidly engineered to handle big data. Be assured, that requires some serious data engineering.</li>\n",
      "<li><strong>Machine Learning</strong> Data Science: While a lot of IoT devices are still operated according to rules-based decision criteria, the age of artificial intelligence is upon us. IoT will increasingly depend on machine learning algorithms to control device operations so that devices are able to autonomously respond to a complex set of overlapping stimuli.</li>\n",
      "<li><strong>Blockchain</strong>-Enabled Security: Above all else, IoT networks must be secure. Blockchain technology is primed to meet the security demands that come along with building and expanding the IoT.</li>\n",
      "</ol>\n",
      "<h1>Best New IoT Device Ideas</h1>\n",
      "This listing of new IoT device ideas has been sub-divided according to the main technology upon which the IoT devices are built. Below I’m providing a list of new IoT device ideas, but for detailed instructions on how to build these IoT applications, I recommend the <a href=\"https://click.linksynergy.com/deeplink?id=*JDLXjeE*wk&amp;mid=39197&amp;murl=https%3A%2F%2Fwww.udemy.com%2Ftopic%2Finternet-of-things%2F%3Fsort%3Dhighest-rated\">IoT courses on Udemy</a> (ß Please note: if you purchase a Udemy course through this link, I may receive a small commission), or courses that are available at <a href=\"http://www.skyfilabs.com/iot-online-courses\">SkyFi</a> and <a href=\"https://www.coursera.org/specializations/iot\">Coursera</a>.\n",
      "<h2>Raspberry Pi IoT Ideas</h2>\n",
      "Using Raspberry Pi as open-source hardware, you can build IoT applications that offer any one of the following benefits:\n",
      "<ol>\n",
      "<li>Enable built-in sensing to build a weather station that measures ambient temperature and humidity</li>\n",
      "<li>Build a system that detects discrepancies in electrical readings to identify electricity theft</li>\n",
      "<li>Use IoT to build a Servo that is controlled by motion detection readings</li>\n",
      "<li>Build a smart control switch that operates devices based on external stimuli. Use this for home automation.</li>\n",
      "<li>Build a music playing application that enables music for each room in your house</li>\n",
      "<li>Implement biometrics on IoT-connected devices</li>\n",
      "</ol>\n",
      "<h2>Arduino IoT Ideas</h2>\n",
      "There are a number of new IoT device ideas that deploy Arduino as a microcontroller. These include:\n",
      "<ol>\n",
      "<li>Integrate Arduino with Android to build a remote-control RGB LED device.</li>\n",
      "<li>Connect PIR sensors across the IoT to implement a smart building.</li>\n",
      "<li>Build a temperature and sunlight sensor system to remotely monitor and control the conditions of your garden.</li>\n",
      "<li>Deploy Arduino and IoT to automate your neighborhood streetlights.</li>\n",
      "<li>Build a smart irrigation system based on IoT-connected temperature and moisture sensors built-in to your agricultural plants.</li>\n",
      "</ol>\n",
      "[caption id=\"attachment_3807\" align=\"aligncenter\" width=\"300\"]<a href=\"bit.ly/LPlNDJj\"><img alt=\"\" class=\"wp-image-3807 size-medium\" height=\"295\" src=\"http://www.data-mania.com/blog/wp-content/uploads/2017/12/IMG_3058-300x295.jpg\" width=\"300\"/></a> An IoT Chatbot Tree at the Ericsson Studio[/caption]\n",
      "<h2>Wireless (GSM) IoT Ideas</h2>\n",
      "Several new IoT device ideas are developed around the GSM wireless network. Those are:\n",
      "<ol>\n",
      "<li>Monitor soil moisture to automate agricultural irrigation cycles.</li>\n",
      "<li>Automate and control the conditions of a greenhouse.</li>\n",
      "<li>Enable bio-metrics to build a smart security system for your home or office building</li>\n",
      "<li>Build an autonomously operating fitness application that automatically makes recommendations based on motion detection and heart rate sensors that are embedded on wearable fitness trackers.</li>\n",
      "<li>Build a healthcare monitoring system that tracks, informs, and automatically alerts healthcare providers based on sensor readings that describe a patients vital statistics (like temperature, pulse, blood pressure, etc).</li>\n",
      "</ol>\n",
      "<h2>IoT Automation Ideas</h2>\n",
      "Almost all new IoT device ideas offer automation benefits, but to outline a few more ideas:\n",
      "<ol>\n",
      "<li>Build an IoT device that automatically locates and reports the closest nearby parking spot.</li>\n",
      "<li>Build a motion detection system that automatically issues emails or sms messages to alert home owners of a likely home invasion.</li>\n",
      "<li>Use temperature sensors connected across the IoT to automatically alert you if your home windows or doors have been left open.</li>\n",
      "<li>Use bio-metric sensors to build a smart system that automate security for your home or office building</li>\n",
      "</ol>\n",
      "To learn more about IoT and what’s happening on the leading edge, be sure to pop over to Ericsson’s Studio Tour recap and <span style=\"text-decoration: underline;\"><strong><a href=\"http://bit.ly/LPlNDJj\">watch these videos</a></strong></span>.\n",
      "\n",
      "<em>(I captured some of this content on behalf of DevMode Strategies during an invite-only tour of the Ericsson Studio in Kista. Rest assure, the text and opinions are my own</em>)\n",
      "<p class=\"description\">...</p>\n",
      "</p></body></html>\n"
     ]
    }
   ],
   "source": [
    "our_soup_object = BeautifulSoup(our_html_document, 'html.parser') # parameters -> document to be passed, type of parser\n",
    "print(our_soup_object)"
   ]
  },
  {
   "cell_type": "raw",
   "id": "2dc0d022",
   "metadata": {},
   "source": [
    "By default the BeautifulSoup has format of UTF-8 which is difficult to read as it has no formatting.\n",
    "To make it better to read, we can prettify() the soup object. This will turn the BeautifulSOup tree into a ncely formatted unicode string, with each HTML tag on it own line."
   ]
  },
  {
   "cell_type": "code",
   "execution_count": 5,
   "id": "c6e1cfbb",
   "metadata": {},
   "outputs": [
    {
     "name": "stdout",
     "output_type": "stream",
     "text": [
      "<html>\n",
      " <head>\n",
      "  <title>\n",
      "   IoT Articles\n",
      "  </title>\n",
      " </head>\n",
      " <body>\n",
      "  <p class=\"title\">\n",
      "   <b>\n",
      "    2018 Trends: Best New IoT Device Ideas for Data Scientists and Engineers\n",
      "   </b>\n",
      "  </p>\n",
      "  <p class=\"description\">\n",
      "   It’s almost 2018 and IoT is on the cusp of an explosive expansion. In this article,\n"
     ]
    }
   ],
   "source": [
    "print(our_soup_object.prettify()[0:300])"
   ]
  },
  {
   "cell_type": "markdown",
   "id": "add51030",
   "metadata": {},
   "source": [
    "#### Tag Objects"
   ]
  },
  {
   "cell_type": "markdown",
   "id": "86b37881",
   "metadata": {},
   "source": [
    "##### Tag Names"
   ]
  },
  {
   "cell_type": "code",
   "execution_count": 6,
   "id": "cf030455",
   "metadata": {},
   "outputs": [
    {
     "data": {
      "text/plain": [
       "bs4.element.Tag"
      ]
     },
     "execution_count": 6,
     "metadata": {},
     "output_type": "execute_result"
    }
   ],
   "source": [
    "# parameters -> (heading element(tag), how should the first parameter be interpreted as)\n",
    "soup_object = BeautifulSoup('<h1 attribute_1 = \"Heading Level 1\"\">Future Trends for IOT in 2018</h1>', \"lxml\")\n",
    "# tag name is h1 as a reference, to the passed html, in the above line\n",
    "tag = soup_object.h1\n",
    "type(tag)\n"
   ]
  },
  {
   "cell_type": "raw",
   "id": "74864519",
   "metadata": {},
   "source": [
    "In the above code, the first parameter - heading element is html. What we are doing is adding a tag to that html i.e. \"h1\".\n"
   ]
  },
  {
   "cell_type": "code",
   "execution_count": 7,
   "id": "6691e61f",
   "metadata": {},
   "outputs": [
    {
     "name": "stdout",
     "output_type": "stream",
     "text": [
      "<h1 attribute_1=\"Heading Level 1\">Future Trends for IOT in 2018</h1>\n"
     ]
    }
   ],
   "source": [
    "print(tag)"
   ]
  },
  {
   "cell_type": "code",
   "execution_count": 8,
   "id": "d1c5b61b",
   "metadata": {},
   "outputs": [
    {
     "data": {
      "text/plain": [
       "'h1'"
      ]
     },
     "execution_count": 8,
     "metadata": {},
     "output_type": "execute_result"
    }
   ],
   "source": [
    "tag.name"
   ]
  },
  {
   "cell_type": "raw",
   "id": "20cfde4c",
   "metadata": {},
   "source": [
    "The name of out tag is \"h1\". We can change this if we want."
   ]
  },
  {
   "cell_type": "code",
   "execution_count": 16,
   "id": "425a7a88",
   "metadata": {},
   "outputs": [],
   "source": [
    "tag.name = 'heading1'"
   ]
  },
  {
   "cell_type": "code",
   "execution_count": 17,
   "id": "3f975036",
   "metadata": {},
   "outputs": [
    {
     "data": {
      "text/plain": [
       "<heading1 attribute_1=\"Heading Level 1\">Future Trends for IOT in 2018</heading1>"
      ]
     },
     "execution_count": 17,
     "metadata": {},
     "output_type": "execute_result"
    }
   ],
   "source": [
    "tag.name\n",
    "tag"
   ]
  },
  {
   "cell_type": "code",
   "execution_count": 18,
   "id": "efc65eea",
   "metadata": {},
   "outputs": [
    {
     "data": {
      "text/plain": [
       "<heading1 attribute_1=\"Heading Level 1\">Future Trends for IOT in 2018</heading1>"
      ]
     },
     "execution_count": 18,
     "metadata": {},
     "output_type": "execute_result"
    }
   ],
   "source": [
    "soup_object.heading1"
   ]
  },
  {
   "cell_type": "code",
   "execution_count": 19,
   "id": "842e0212",
   "metadata": {},
   "outputs": [
    {
     "data": {
      "text/plain": [
       "'heading1'"
      ]
     },
     "execution_count": 19,
     "metadata": {},
     "output_type": "execute_result"
    }
   ],
   "source": [
    "tag.name"
   ]
  },
  {
   "cell_type": "markdown",
   "id": "8c2a9c44",
   "metadata": {},
   "source": [
    "#### Tag Attributes"
   ]
  },
  {
   "cell_type": "raw",
   "id": "c31115a0",
   "metadata": {},
   "source": [
    "Tag can have a variety of attributes. They can be accessed by treating the tag like a dictionary."
   ]
  },
  {
   "cell_type": "code",
   "execution_count": 20,
   "id": "27263cbe",
   "metadata": {},
   "outputs": [
    {
     "data": {
      "text/plain": [
       "<h1 attribute_1=\"Heading Level 1\">Future Trends for IOT in 2018</h1>"
      ]
     },
     "execution_count": 20,
     "metadata": {},
     "output_type": "execute_result"
    }
   ],
   "source": [
    "# The first attribute would be the tag\n",
    "soup_object = BeautifulSoup('<h1 attribute_1 = \"Heading Level 1\"\">Future Trends for IOT in 2018</h1>', \"lxml\")\n",
    "tag = soup_object.h1\n",
    "tag"
   ]
  },
  {
   "cell_type": "code",
   "execution_count": 21,
   "id": "39bbc7bd",
   "metadata": {},
   "outputs": [
    {
     "data": {
      "text/plain": [
       "'Heading Level 1'"
      ]
     },
     "execution_count": 21,
     "metadata": {},
     "output_type": "execute_result"
    }
   ],
   "source": [
    "# If we select first attribute from the tag,\n",
    "tag['attribute_1']"
   ]
  },
  {
   "cell_type": "code",
   "execution_count": 22,
   "id": "2fe2c581",
   "metadata": {},
   "outputs": [
    {
     "data": {
      "text/plain": [
       "{'attribute_1': 'Heading Level 1'}"
      ]
     },
     "execution_count": 22,
     "metadata": {},
     "output_type": "execute_result"
    }
   ],
   "source": [
    "# To return a dict that has all the attributes\n",
    "tag.attrs"
   ]
  },
  {
   "cell_type": "code",
   "execution_count": 23,
   "id": "4b96894a",
   "metadata": {},
   "outputs": [
    {
     "data": {
      "text/plain": [
       "{'attribute_1': 'Heading Level 1', 'attribute_2': 'Heading Level 1'}"
      ]
     },
     "execution_count": 23,
     "metadata": {},
     "output_type": "execute_result"
    }
   ],
   "source": [
    "# To add an attribute\n",
    "tag['attribute_2'] = 'Heading Level 1'\n",
    "tag.attrs"
   ]
  },
  {
   "cell_type": "code",
   "execution_count": 24,
   "id": "38b15e4f",
   "metadata": {},
   "outputs": [
    {
     "data": {
      "text/plain": [
       "<h1 attribute_1=\"Heading Level 1\" attribute_2=\"Heading Level 1\">Future Trends for IOT in 2018</h1>"
      ]
     },
     "execution_count": 24,
     "metadata": {},
     "output_type": "execute_result"
    }
   ],
   "source": [
    "tag"
   ]
  },
  {
   "cell_type": "code",
   "execution_count": 27,
   "id": "009e2db5",
   "metadata": {},
   "outputs": [
    {
     "data": {
      "text/plain": [
       "<h1 attribute_1=\"Heading Level 1\">Future Trends for IOT in 2018</h1>"
      ]
     },
     "execution_count": 27,
     "metadata": {},
     "output_type": "execute_result"
    }
   ],
   "source": [
    "# to delete an attribute\n",
    "del tag['attribute_2']\n",
    "tag"
   ]
  },
  {
   "cell_type": "code",
   "execution_count": 29,
   "id": "bbdf2936",
   "metadata": {},
   "outputs": [
    {
     "data": {
      "text/plain": [
       "{}"
      ]
     },
     "execution_count": 29,
     "metadata": {},
     "output_type": "execute_result"
    }
   ],
   "source": [
    "del tag['attribute_1']\n",
    "tag.attrs"
   ]
  },
  {
   "cell_type": "code",
   "execution_count": null,
   "id": "831b23a6",
   "metadata": {},
   "outputs": [],
   "source": []
  },
  {
   "cell_type": "markdown",
   "id": "bf97412a",
   "metadata": {},
   "source": [
    "#### Navigating a parse tree using tags"
   ]
  },
  {
   "cell_type": "code",
   "execution_count": 30,
   "id": "66a4baec",
   "metadata": {},
   "outputs": [],
   "source": [
    "# First we will recreate our original parse tree.\n",
    "our_html_document = '''\n",
    "<html><head><title>IoT Articles</title></head>\n",
    "<body>\n",
    "<p class='title'><b>2018 Trends: Best New IoT Device Ideas for Data Scientists and Engineers</b></p>\n",
    "\n",
    "<p class='description'>It’s almost 2018 and IoT is on the cusp of an explosive expansion. In this article, I offer you a listing of new IoT device ideas that you can use...\n",
    "<br>\n",
    "<br>\n",
    "It’s almost 2018 and IoT is on the cusp of an explosive expansion. In this article, I offer you a listing of new IoT device ideas that you can use to get practice in designing your first IoT applications.\n",
    "<h1>Looking Back at My Coolest IoT Find in 2017</h1>\n",
    "Before going into detail about best new IoT device ideas, here’s the backstory. <span style=\"text-decoration: underline;\"><strong><a href=\"http://bit.ly/LPlNDJj\">Last month Ericsson Digital invited me</a></strong></span> to tour the Ericsson Studio in Kista, Sweden. Up until that visit, <a href=\"http://www.data-mania.com/blog/m2m-vs-iot/\">IoT</a> had been largely theoretical to me. Of course, I know the usual mumbo-jumbo about wearables and IoT-connected fitness trackers. That stuff is all well and good, but it’s somewhat old hat – plus I am not sure we are really benefiting so much from those, so I’m not that impressed.\n",
    "\n",
    "It wasn’t until I got to the Ericsson Studio that I became extremely impressed by how far IoT has really come. Relying on the promise of the 5g network expansion, IoT-powered smart devices are on the cusp of an explosive growth in adoption. It was Ericsson’s Smart Car that sent me reeling:<a href=\"bit.ly/LPlNDJj\"><img class=\"aligncenter size-full wp-image-3802\" src=\"http://www.data-mania.com/blog/wp-content/uploads/2017/12/new-IoT-device-ideas.jpg\" alt=\"Get your new iot device ideas here\" width=\"1024\" height=\"683\" /></a>\n",
    "\n",
    "This car is connected to Ericsson’s Connected Vehicle Cloud, an IoT platform that manages services for the Smart Cars to which it’s connected. The Volvo pictured above acts as a drop-off location for groceries that have been ordered by its owner.\n",
    "\n",
    "To understand how it works, imagine you’re pulling your normal 9-to-5 and you know you need to grab some groceries on your way home. Well, since you’re smart you’ve used Ericsson IoT platform to connect your car to the local grocery delivery service (<a href=\"http://mat.se/\">Mat.se</a>), so all you need to do is open the Mat.se app and make your usual order. Mat.se automatically handles the payment, grocery selection, delivery, and delivery scheduling. Since your car is IoT-enabled, Mat.se issues its trusted delivery agent a 1-time token to use for opening your car in order to place your groceries in your car for you at 4:40 pm (just before you get off from work).\n",
    "\n",
    "To watch some of the amazing IoT device demos I witnessed at Ericsson Studio, make sure to go <span style=\"text-decoration: underline;\"><strong><a href=\"http://bit.ly/LPlNDJj\">watch the videos on this page</a></strong></span>.\n",
    "<h1>Future Trends for IoT in 2018</h1>\n",
    "New IoT device ideas won’t do you much good unless you at least know the basic technology trends that are set to impact IoT over the next year(s). These include:\n",
    "<ol>\n",
    " \t<li><strong>Big Data</strong> &amp; Data Engineering: Sensors that are embedded within IoT devices spin off machine-generated data like it’s going out of style. For IoT to function, the platform must be solidly engineered to handle big data. Be assured, that requires some serious data engineering.</li>\n",
    " \t<li><strong>Machine Learning</strong> Data Science: While a lot of IoT devices are still operated according to rules-based decision criteria, the age of artificial intelligence is upon us. IoT will increasingly depend on machine learning algorithms to control device operations so that devices are able to autonomously respond to a complex set of overlapping stimuli.</li>\n",
    " \t<li><strong>Blockchain</strong>-Enabled Security: Above all else, IoT networks must be secure. Blockchain technology is primed to meet the security demands that come along with building and expanding the IoT.</li>\n",
    "</ol>\n",
    "<h1>Best New IoT Device Ideas</h1>\n",
    "This listing of new IoT device ideas has been sub-divided according to the main technology upon which the IoT devices are built. Below I’m providing a list of new IoT device ideas, but for detailed instructions on how to build these IoT applications, I recommend the <a href=\"https://click.linksynergy.com/deeplink?id=*JDLXjeE*wk&amp;mid=39197&amp;murl=https%3A%2F%2Fwww.udemy.com%2Ftopic%2Finternet-of-things%2F%3Fsort%3Dhighest-rated\">IoT courses on Udemy</a> (ß Please note: if you purchase a Udemy course through this link, I may receive a small commission), or courses that are available at <a href=\"http://www.skyfilabs.com/iot-online-courses\">SkyFi</a> and <a href=\"https://www.coursera.org/specializations/iot\">Coursera</a>.\n",
    "<h2>Raspberry Pi IoT Ideas</h2>\n",
    "Using Raspberry Pi as open-source hardware, you can build IoT applications that offer any one of the following benefits:\n",
    "<ol>\n",
    " \t<li>Enable built-in sensing to build a weather station that measures ambient temperature and humidity</li>\n",
    " \t<li>Build a system that detects discrepancies in electrical readings to identify electricity theft</li>\n",
    " \t<li>Use IoT to build a Servo that is controlled by motion detection readings</li>\n",
    " \t<li>Build a smart control switch that operates devices based on external stimuli. Use this for home automation.</li>\n",
    " \t<li>Build a music playing application that enables music for each room in your house</li>\n",
    " \t<li>Implement biometrics on IoT-connected devices</li>\n",
    "</ol>\n",
    "<h2>Arduino IoT Ideas</h2>\n",
    "There are a number of new IoT device ideas that deploy Arduino as a microcontroller. These include:\n",
    "<ol>\n",
    " \t<li>Integrate Arduino with Android to build a remote-control RGB LED device.</li>\n",
    " \t<li>Connect PIR sensors across the IoT to implement a smart building.</li>\n",
    " \t<li>Build a temperature and sunlight sensor system to remotely monitor and control the conditions of your garden.</li>\n",
    " \t<li>Deploy Arduino and IoT to automate your neighborhood streetlights.</li>\n",
    " \t<li>Build a smart irrigation system based on IoT-connected temperature and moisture sensors built-in to your agricultural plants.</li>\n",
    "</ol>\n",
    "[caption id=\"attachment_3807\" align=\"aligncenter\" width=\"300\"]<a href=\"bit.ly/LPlNDJj\"><img class=\"wp-image-3807 size-medium\" src=\"http://www.data-mania.com/blog/wp-content/uploads/2017/12/IMG_3058-300x295.jpg\" alt=\"\" width=\"300\" height=\"295\" /></a> An IoT Chatbot Tree at the Ericsson Studio[/caption]\n",
    "<h2>Wireless (GSM) IoT Ideas</h2>\n",
    "Several new IoT device ideas are developed around the GSM wireless network. Those are:\n",
    "<ol>\n",
    " \t<li>Monitor soil moisture to automate agricultural irrigation cycles.</li>\n",
    " \t<li>Automate and control the conditions of a greenhouse.</li>\n",
    " \t<li>Enable bio-metrics to build a smart security system for your home or office building</li>\n",
    " \t<li>Build an autonomously operating fitness application that automatically makes recommendations based on motion detection and heart rate sensors that are embedded on wearable fitness trackers.</li>\n",
    " \t<li>Build a healthcare monitoring system that tracks, informs, and automatically alerts healthcare providers based on sensor readings that describe a patients vital statistics (like temperature, pulse, blood pressure, etc).</li>\n",
    "</ol>\n",
    "<h2>IoT Automation Ideas</h2>\n",
    "Almost all new IoT device ideas offer automation benefits, but to outline a few more ideas:\n",
    "<ol>\n",
    " \t<li>Build an IoT device that automatically locates and reports the closest nearby parking spot.</li>\n",
    " \t<li>Build a motion detection system that automatically issues emails or sms messages to alert home owners of a likely home invasion.</li>\n",
    " \t<li>Use temperature sensors connected across the IoT to automatically alert you if your home windows or doors have been left open.</li>\n",
    " \t<li>Use bio-metric sensors to build a smart system that automate security for your home or office building</li>\n",
    "</ol>\n",
    "To learn more about IoT and what’s happening on the leading edge, be sure to pop over to Ericsson’s Studio Tour recap and <span style=\"text-decoration: underline;\"><strong><a href=\"http://bit.ly/LPlNDJj\">watch these videos</a></strong></span>.\n",
    "\n",
    "<em>(I captured some of this content on behalf of DevMode Strategies during an invite-only tour of the Ericsson Studio in Kista. Rest assure, the text and opinions are my own</em>)\n",
    "<p class='description'>...</p>\n",
    "'''\n",
    "our_soup_object = BeautifulSoup(our_html_document, 'html.parser')"
   ]
  },
  {
   "cell_type": "code",
   "execution_count": 33,
   "id": "112c8e95",
   "metadata": {},
   "outputs": [
    {
     "data": {
      "text/plain": [
       "<head><title>IoT Articles</title></head>"
      ]
     },
     "execution_count": 33,
     "metadata": {},
     "output_type": "execute_result"
    }
   ],
   "source": [
    "# To retreive the title element/ head tag\n",
    "our_soup_object.head"
   ]
  },
  {
   "cell_type": "code",
   "execution_count": 34,
   "id": "9cd0e49c",
   "metadata": {},
   "outputs": [
    {
     "data": {
      "text/plain": [
       "<title>IoT Articles</title>"
      ]
     },
     "execution_count": 34,
     "metadata": {},
     "output_type": "execute_result"
    }
   ],
   "source": [
    "our_soup_object.title"
   ]
  },
  {
   "cell_type": "code",
   "execution_count": 35,
   "id": "5575df55",
   "metadata": {},
   "outputs": [
    {
     "data": {
      "text/plain": [
       "<b>2018 Trends: Best New IoT Device Ideas for Data Scientists and Engineers</b>"
      ]
     },
     "execution_count": 35,
     "metadata": {},
     "output_type": "execute_result"
    }
   ],
   "source": [
    "# name of the article/ html document - first check which tag is it in; here\n",
    "our_soup_object.body.b"
   ]
  },
  {
   "cell_type": "code",
   "execution_count": 37,
   "id": "e6ff5eb5",
   "metadata": {},
   "outputs": [
    {
     "data": {
      "text/plain": [
       "<a href=\"http://bit.ly/LPlNDJj\">Last month Ericsson Digital invited me</a>"
      ]
     },
     "execution_count": 37,
     "metadata": {},
     "output_type": "execute_result"
    }
   ],
   "source": [
    "# First tag that contains a link\n",
    "our_soup_object.body.a"
   ]
  },
  {
   "cell_type": "code",
   "execution_count": 39,
   "id": "706996a6",
   "metadata": {},
   "outputs": [
    {
     "data": {
      "text/plain": [
       "<li><strong>Big Data</strong> &amp; Data Engineering: Sensors that are embedded within IoT devices spin off machine-generated data like it’s going out of style. For IoT to function, the platform must be solidly engineered to handle big data. Be assured, that requires some serious data engineering.</li>"
      ]
     },
     "execution_count": 39,
     "metadata": {},
     "output_type": "execute_result"
    }
   ],
   "source": [
    "# To retreive tags associated only with lists\n",
    "our_soup_object.li "
   ]
  },
  {
   "cell_type": "code",
   "execution_count": null,
   "id": "7e219e44",
   "metadata": {},
   "outputs": [],
   "source": []
  },
  {
   "cell_type": "markdown",
   "id": "8ceadfc1",
   "metadata": {},
   "source": [
    "### Segment 2 - NavigatableString Objects"
   ]
  },
  {
   "cell_type": "code",
   "execution_count": 40,
   "id": "0129b12e",
   "metadata": {},
   "outputs": [],
   "source": [
    "from bs4 import BeautifulSoup"
   ]
  },
  {
   "cell_type": "markdown",
   "id": "20dcf689",
   "metadata": {},
   "source": [
    "#### NavigatableStringObjects"
   ]
  },
  {
   "cell_type": "code",
   "execution_count": 41,
   "id": "9b6ba53e",
   "metadata": {},
   "outputs": [
    {
     "data": {
      "text/plain": [
       "'h1'"
      ]
     },
     "execution_count": 41,
     "metadata": {},
     "output_type": "execute_result"
    }
   ],
   "source": [
    "soup_object = BeautifulSoup('<h1 attribute_1 = \"Heading Level 1\"\">Future Trends for IOT in 2018</h1>', \"lxml\")\n",
    "tag = soup_object.h1\n",
    "tag.name"
   ]
  },
  {
   "cell_type": "code",
   "execution_count": 42,
   "id": "f15976ac",
   "metadata": {},
   "outputs": [
    {
     "data": {
      "text/plain": [
       "'Future Trends for IOT in 2018'"
      ]
     },
     "execution_count": 42,
     "metadata": {},
     "output_type": "execute_result"
    }
   ],
   "source": [
    "# To isolate the string part from the tag\n",
    "tag.string"
   ]
  },
  {
   "cell_type": "raw",
   "id": "fc0aff36",
   "metadata": {},
   "source": [
    "tag.string is a separate object of its own."
   ]
  },
  {
   "cell_type": "code",
   "execution_count": 43,
   "id": "8a9c9bf6",
   "metadata": {},
   "outputs": [
    {
     "data": {
      "text/plain": [
       "bs4.element.NavigableString"
      ]
     },
     "execution_count": 43,
     "metadata": {},
     "output_type": "execute_result"
    }
   ],
   "source": [
    "type(tag.string)"
   ]
  },
  {
   "cell_type": "code",
   "execution_count": 44,
   "id": "5c674106",
   "metadata": {},
   "outputs": [
    {
     "data": {
      "text/plain": [
       "'Future Trends for IOT in 2018'"
      ]
     },
     "execution_count": 44,
     "metadata": {},
     "output_type": "execute_result"
    }
   ],
   "source": [
    "our_navi_string =  tag.string\n",
    "our_navi_string"
   ]
  },
  {
   "cell_type": "code",
   "execution_count": 45,
   "id": "ff01edd1",
   "metadata": {},
   "outputs": [
    {
     "data": {
      "text/plain": [
       "'NaN'"
      ]
     },
     "execution_count": 45,
     "metadata": {},
     "output_type": "execute_result"
    }
   ],
   "source": [
    "# To replace the string part from the navigatable string\n",
    "our_navi_string.replace_with('NaN')\n",
    "tag.string"
   ]
  },
  {
   "cell_type": "code",
   "execution_count": 46,
   "id": "2ba728ba",
   "metadata": {},
   "outputs": [
    {
     "data": {
      "text/plain": [
       "<h1 attribute_1=\"Heading Level 1\">NaN</h1>"
      ]
     },
     "execution_count": 46,
     "metadata": {},
     "output_type": "execute_result"
    }
   ],
   "source": [
    "tag"
   ]
  },
  {
   "cell_type": "markdown",
   "id": "a6e66cb4",
   "metadata": {
    "collapsed": true
   },
   "source": [
    "#### Utilizing NavigatableString objects"
   ]
  },
  {
   "cell_type": "code",
   "execution_count": 47,
   "id": "00072c9b",
   "metadata": {},
   "outputs": [],
   "source": [
    "our_html_document = '''\n",
    "<html><head><title>IoT Articles</title></head>\n",
    "<body>\n",
    "<p class='title'><b>2018 Trends: Best New IoT Device Ideas for Data Scientists and Engineers</b></p>\n",
    "\n",
    "<p class='description'>It’s almost 2018 and IoT is on the cusp of an explosive expansion. In this article, I offer you a listing of new IoT device ideas that you can use...\n",
    "<br>\n",
    "<br>\n",
    "It’s almost 2018 and IoT is on the cusp of an explosive expansion. In this article, I offer you a listing of new IoT device ideas that you can use to get practice in designing your first IoT applications.\n",
    "<h1>Looking Back at My Coolest IoT Find in 2017</h1>\n",
    "Before going into detail about best new IoT device ideas, here’s the backstory. <span style=\"text-decoration: underline;\"><strong><a href=\"http://bit.ly/LPlNDJj\">Last month Ericsson Digital invited me</a></strong></span> to tour the Ericsson Studio in Kista, Sweden. Up until that visit, <a href=\"http://www.data-mania.com/blog/m2m-vs-iot/\">IoT</a> had been largely theoretical to me. Of course, I know the usual mumbo-jumbo about wearables and IoT-connected fitness trackers. That stuff is all well and good, but it’s somewhat old hat – plus I am not sure we are really benefiting so much from those, so I’m not that impressed.\n",
    "\n",
    "It wasn’t until I got to the Ericsson Studio that I became extremely impressed by how far IoT has really come. Relying on the promise of the 5g network expansion, IoT-powered smart devices are on the cusp of an explosive growth in adoption. It was Ericsson’s Smart Car that sent me reeling:<a href=\"bit.ly/LPlNDJj\"><img class=\"aligncenter size-full wp-image-3802\" src=\"http://www.data-mania.com/blog/wp-content/uploads/2017/12/new-IoT-device-ideas.jpg\" alt=\"Get your new iot device ideas here\" width=\"1024\" height=\"683\" /></a>\n",
    "\n",
    "This car is connected to Ericsson’s Connected Vehicle Cloud, an IoT platform that manages services for the Smart Cars to which it’s connected. The Volvo pictured above acts as a drop-off location for groceries that have been ordered by its owner.\n",
    "\n",
    "To understand how it works, imagine you’re pulling your normal 9-to-5 and you know you need to grab some groceries on your way home. Well, since you’re smart you’ve used Ericsson IoT platform to connect your car to the local grocery delivery service (<a href=\"http://mat.se/\">Mat.se</a>), so all you need to do is open the Mat.se app and make your usual order. Mat.se automatically handles the payment, grocery selection, delivery, and delivery scheduling. Since your car is IoT-enabled, Mat.se issues its trusted delivery agent a 1-time token to use for opening your car in order to place your groceries in your car for you at 4:40 pm (just before you get off from work).\n",
    "\n",
    "To watch some of the amazing IoT device demos I witnessed at Ericsson Studio, make sure to go <span style=\"text-decoration: underline;\"><strong><a href=\"http://bit.ly/LPlNDJj\">watch the videos on this page</a></strong></span>.\n",
    "<h1>Future Trends for IoT in 2018</h1>\n",
    "New IoT device ideas won’t do you much good unless you at least know the basic technology trends that are set to impact IoT over the next year(s). These include:\n",
    "<ol>\n",
    " \t<li><strong>Big Data</strong> &amp; Data Engineering: Sensors that are embedded within IoT devices spin off machine-generated data like it’s going out of style. For IoT to function, the platform must be solidly engineered to handle big data. Be assured, that requires some serious data engineering.</li>\n",
    " \t<li><strong>Machine Learning</strong> Data Science: While a lot of IoT devices are still operated according to rules-based decision criteria, the age of artificial intelligence is upon us. IoT will increasingly depend on machine learning algorithms to control device operations so that devices are able to autonomously respond to a complex set of overlapping stimuli.</li>\n",
    " \t<li><strong>Blockchain</strong>-Enabled Security: Above all else, IoT networks must be secure. Blockchain technology is primed to meet the security demands that come along with building and expanding the IoT.</li>\n",
    "</ol>\n",
    "<h1>Best New IoT Device Ideas</h1>\n",
    "This listing of new IoT device ideas has been sub-divided according to the main technology upon which the IoT devices are built. Below I’m providing a list of new IoT device ideas, but for detailed instructions on how to build these IoT applications, I recommend the <a href=\"https://click.linksynergy.com/deeplink?id=*JDLXjeE*wk&amp;mid=39197&amp;murl=https%3A%2F%2Fwww.udemy.com%2Ftopic%2Finternet-of-things%2F%3Fsort%3Dhighest-rated\">IoT courses on Udemy</a> (ß Please note: if you purchase a Udemy course through this link, I may receive a small commission), or courses that are available at <a href=\"http://www.skyfilabs.com/iot-online-courses\">SkyFi</a> and <a href=\"https://www.coursera.org/specializations/iot\">Coursera</a>.\n",
    "<h2>Raspberry Pi IoT Ideas</h2>\n",
    "Using Raspberry Pi as open-source hardware, you can build IoT applications that offer any one of the following benefits:\n",
    "<ol>\n",
    " \t<li>Enable built-in sensing to build a weather station that measures ambient temperature and humidity</li>\n",
    " \t<li>Build a system that detects discrepancies in electrical readings to identify electricity theft</li>\n",
    " \t<li>Use IoT to build a Servo that is controlled by motion detection readings</li>\n",
    " \t<li>Build a smart control switch that operates devices based on external stimuli. Use this for home automation.</li>\n",
    " \t<li>Build a music playing application that enables music for each room in your house</li>\n",
    " \t<li>Implement biometrics on IoT-connected devices</li>\n",
    "</ol>\n",
    "<h2>Arduino IoT Ideas</h2>\n",
    "There are a number of new IoT device ideas that deploy Arduino as a microcontroller. These include:\n",
    "<ol>\n",
    " \t<li>Integrate Arduino with Android to build a remote-control RGB LED device.</li>\n",
    " \t<li>Connect PIR sensors across the IoT to implement a smart building.</li>\n",
    " \t<li>Build a temperature and sunlight sensor system to remotely monitor and control the conditions of your garden.</li>\n",
    " \t<li>Deploy Arduino and IoT to automate your neighborhood streetlights.</li>\n",
    " \t<li>Build a smart irrigation system based on IoT-connected temperature and moisture sensors built-in to your agricultural plants.</li>\n",
    "</ol>\n",
    "[caption id=\"attachment_3807\" align=\"aligncenter\" width=\"300\"]<a href=\"bit.ly/LPlNDJj\"><img class=\"wp-image-3807 size-medium\" src=\"http://www.data-mania.com/blog/wp-content/uploads/2017/12/IMG_3058-300x295.jpg\" alt=\"\" width=\"300\" height=\"295\" /></a> An IoT Chatbot Tree at the Ericsson Studio[/caption]\n",
    "<h2>Wireless (GSM) IoT Ideas</h2>\n",
    "Several new IoT device ideas are developed around the GSM wireless network. Those are:\n",
    "<ol>\n",
    " \t<li>Monitor soil moisture to automate agricultural irrigation cycles.</li>\n",
    " \t<li>Automate and control the conditions of a greenhouse.</li>\n",
    " \t<li>Enable bio-metrics to build a smart security system for your home or office building</li>\n",
    " \t<li>Build an autonomously operating fitness application that automatically makes recommendations based on motion detection and heart rate sensors that are embedded on wearable fitness trackers.</li>\n",
    " \t<li>Build a healthcare monitoring system that tracks, informs, and automatically alerts healthcare providers based on sensor readings that describe a patients vital statistics (like temperature, pulse, blood pressure, etc).</li>\n",
    "</ol>\n",
    "<h2>IoT Automation Ideas</h2>\n",
    "Almost all new IoT device ideas offer automation benefits, but to outline a few more ideas:\n",
    "<ol>\n",
    " \t<li>Build an IoT device that automatically locates and reports the closest nearby parking spot.</li>\n",
    " \t<li>Build a motion detection system that automatically issues emails or sms messages to alert home owners of a likely home invasion.</li>\n",
    " \t<li>Use temperature sensors connected across the IoT to automatically alert you if your home windows or doors have been left open.</li>\n",
    " \t<li>Use bio-metric sensors to build a smart system that automate security for your home or office building</li>\n",
    "</ol>\n",
    "To learn more about IoT and what’s happening on the leading edge, be sure to pop over to Ericsson’s Studio Tour recap and <span style=\"text-decoration: underline;\"><strong><a href=\"http://bit.ly/LPlNDJj\">watch these videos</a></strong></span>.\n",
    "\n",
    "<em>(I captured some of this content on behalf of DevMode Strategies during an invite-only tour of the Ericsson Studio in Kista. Rest assure, the text and opinions are my own</em>)\n",
    "<p class='description'>...</p>\n",
    "'''\n",
    "our_soup_object = BeautifulSoup(our_html_document, 'html.parser')"
   ]
  },
  {
   "cell_type": "raw",
   "id": "58182585",
   "metadata": {},
   "source": [
    "If there is one ore more string object within a parse tree, we can easily isolate them."
   ]
  },
  {
   "cell_type": "code",
   "execution_count": 50,
   "id": "36114cbe",
   "metadata": {},
   "outputs": [
    {
     "name": "stdout",
     "output_type": "stream",
     "text": [
      "'IoT Articles'\n",
      "'2018 Trends: Best New IoT Device Ideas for Data Scientists and Engineers'\n",
      "'It’s almost 2018 and IoT is on the cusp of an explosive expansion. In this article, I offer you a listing of new IoT device ideas that you can use...'\n",
      "'It’s almost 2018 and IoT is on the cusp of an explosive expansion. In this article, I offer you a listing of new IoT device ideas that you can use to get practice in designing your first IoT applications.'\n",
      "'Looking Back at My Coolest IoT Find in 2017'\n",
      "'Before going into detail about best new IoT device ideas, here’s the backstory.'\n",
      "'Last month Ericsson Digital invited me'\n",
      "'to tour the Ericsson Studio in Kista, Sweden. Up until that visit,'\n",
      "'IoT'\n",
      "'had been largely theoretical to me. Of course, I know the usual mumbo-jumbo about wearables and IoT-connected fitness trackers. That stuff is all well and good, but it’s somewhat old hat – plus I am not sure we are really benefiting so much from those, so I’m not that impressed.\\n\\nIt wasn’t until I got to the Ericsson Studio that I became extremely impressed by how far IoT has really come. Relying on the promise of the 5g network expansion, IoT-powered smart devices are on the cusp of an explosive growth in adoption. It was Ericsson’s Smart Car that sent me reeling:'\n",
      "'This car is connected to Ericsson’s Connected Vehicle Cloud, an IoT platform that manages services for the Smart Cars to which it’s connected. The Volvo pictured above acts as a drop-off location for groceries that have been ordered by its owner.\\n\\nTo understand how it works, imagine you’re pulling your normal 9-to-5 and you know you need to grab some groceries on your way home. Well, since you’re smart you’ve used Ericsson IoT platform to connect your car to the local grocery delivery service ('\n",
      "'Mat.se'\n",
      "'), so all you need to do is open the Mat.se app and make your usual order. Mat.se automatically handles the payment, grocery selection, delivery, and delivery scheduling. Since your car is IoT-enabled, Mat.se issues its trusted delivery agent a 1-time token to use for opening your car in order to place your groceries in your car for you at 4:40 pm (just before you get off from work).\\n\\nTo watch some of the amazing IoT device demos I witnessed at Ericsson Studio, make sure to go'\n",
      "'watch the videos on this page'\n",
      "'.'\n",
      "'Future Trends for IoT in 2018'\n",
      "'New IoT device ideas won’t do you much good unless you at least know the basic technology trends that are set to impact IoT over the next year(s). These include:'\n",
      "'Big Data'\n",
      "'& Data Engineering: Sensors that are embedded within IoT devices spin off machine-generated data like it’s going out of style. For IoT to function, the platform must be solidly engineered to handle big data. Be assured, that requires some serious data engineering.'\n",
      "'Machine Learning'\n",
      "'Data Science: While a lot of IoT devices are still operated according to rules-based decision criteria, the age of artificial intelligence is upon us. IoT will increasingly depend on machine learning algorithms to control device operations so that devices are able to autonomously respond to a complex set of overlapping stimuli.'\n",
      "'Blockchain'\n",
      "'-Enabled Security: Above all else, IoT networks must be secure. Blockchain technology is primed to meet the security demands that come along with building and expanding the IoT.'\n",
      "'Best New IoT Device Ideas'\n",
      "'This listing of new IoT device ideas has been sub-divided according to the main technology upon which the IoT devices are built. Below I’m providing a list of new IoT device ideas, but for detailed instructions on how to build these IoT applications, I recommend the'\n",
      "'IoT courses on Udemy'\n",
      "'(ß Please note: if you purchase a Udemy course through this link, I may receive a small commission), or courses that are available at'\n",
      "'SkyFi'\n",
      "'and'\n",
      "'Coursera'\n",
      "'.'\n",
      "'Raspberry Pi IoT Ideas'\n",
      "'Using Raspberry Pi as open-source hardware, you can build IoT applications that offer any one of the following benefits:'\n",
      "'Enable built-in sensing to build a weather station that measures ambient temperature and humidity'\n",
      "'Build a system that detects discrepancies in electrical readings to identify electricity theft'\n",
      "'Use IoT to build a Servo that is controlled by motion detection readings'\n",
      "'Build a smart control switch that operates devices based on external stimuli. Use this for home automation.'\n",
      "'Build a music playing application that enables music for each room in your house'\n",
      "'Implement biometrics on IoT-connected devices'\n",
      "'Arduino IoT Ideas'\n",
      "'There are a number of new IoT device ideas that deploy Arduino as a microcontroller. These include:'\n",
      "'Integrate Arduino with Android to build a remote-control RGB LED device.'\n",
      "'Connect PIR sensors across the IoT to implement a smart building.'\n",
      "'Build a temperature and sunlight sensor system to remotely monitor and control the conditions of your garden.'\n",
      "'Deploy Arduino and IoT to automate your neighborhood streetlights.'\n",
      "'Build a smart irrigation system based on IoT-connected temperature and moisture sensors built-in to your agricultural plants.'\n",
      "'[caption id=\"attachment_3807\" align=\"aligncenter\" width=\"300\"]'\n",
      "'An IoT Chatbot Tree at the Ericsson Studio[/caption]'\n",
      "'Wireless (GSM) IoT Ideas'\n",
      "'Several new IoT device ideas are developed around the GSM wireless network. Those are:'\n",
      "'Monitor soil moisture to automate agricultural irrigation cycles.'\n",
      "'Automate and control the conditions of a greenhouse.'\n",
      "'Enable bio-metrics to build a smart security system for your home or office building'\n",
      "'Build an autonomously operating fitness application that automatically makes recommendations based on motion detection and heart rate sensors that are embedded on wearable fitness trackers.'\n",
      "'Build a healthcare monitoring system that tracks, informs, and automatically alerts healthcare providers based on sensor readings that describe a patients vital statistics (like temperature, pulse, blood pressure, etc).'\n",
      "'IoT Automation Ideas'\n",
      "'Almost all new IoT device ideas offer automation benefits, but to outline a few more ideas:'\n",
      "'Build an IoT device that automatically locates and reports the closest nearby parking spot.'\n",
      "'Build a motion detection system that automatically issues emails or sms messages to alert home owners of a likely home invasion.'\n",
      "'Use temperature sensors connected across the IoT to automatically alert you if your home windows or doors have been left open.'\n",
      "'Use bio-metric sensors to build a smart system that automate security for your home or office building'\n",
      "'To learn more about IoT and what’s happening on the leading edge, be sure to pop over to Ericsson’s Studio Tour recap and'\n",
      "'watch these videos'\n",
      "'.'\n",
      "'(I captured some of this content on behalf of DevMode Strategies during an invite-only tour of the Ericsson Studio in Kista. Rest assure, the text and\\xa0opinions are my own'\n",
      "')'\n",
      "'...'\n"
     ]
    }
   ],
   "source": [
    "# To return all the strings within an object; \n",
    "# where string containing entirely of white spaces are ignored,\n",
    "# and, white spaces at the beginning and end of the strings are removed\n",
    "for string in our_soup_object.stripped_strings:\n",
    "    print(repr(string)) # printing representation of the string\n",
    "# prints a list of strings without the tags or any markup within the body"
   ]
  },
  {
   "cell_type": "code",
   "execution_count": 51,
   "id": "9a0f70eb",
   "metadata": {},
   "outputs": [
    {
     "data": {
      "text/plain": [
       "<a href=\"http://bit.ly/LPlNDJj\">Last month Ericsson Digital invited me</a>"
      ]
     },
     "execution_count": 51,
     "metadata": {},
     "output_type": "execute_result"
    }
   ],
   "source": [
    "# access the parent tag object within a parse tree\n",
    "first_link = our_soup_object.a\n",
    "first_link"
   ]
  },
  {
   "cell_type": "code",
   "execution_count": 52,
   "id": "7ebe84dc",
   "metadata": {},
   "outputs": [
    {
     "data": {
      "text/plain": [
       "<strong><a href=\"http://bit.ly/LPlNDJj\">Last month Ericsson Digital invited me</a></strong>"
      ]
     },
     "execution_count": 52,
     "metadata": {},
     "output_type": "execute_result"
    }
   ],
   "source": [
    "# to access the parent of the above link\n",
    "first_link.parent"
   ]
  },
  {
   "cell_type": "code",
   "execution_count": 53,
   "id": "83abc24c",
   "metadata": {},
   "outputs": [
    {
     "data": {
      "text/plain": [
       "'Last month Ericsson Digital invited me'"
      ]
     },
     "execution_count": 53,
     "metadata": {},
     "output_type": "execute_result"
    }
   ],
   "source": [
    "# Pulling the string from the first link tag\n",
    "first_link.string"
   ]
  },
  {
   "cell_type": "code",
   "execution_count": 54,
   "id": "0ac9fed1",
   "metadata": {},
   "outputs": [
    {
     "data": {
      "text/plain": [
       "<a href=\"http://bit.ly/LPlNDJj\">Last month Ericsson Digital invited me</a>"
      ]
     },
     "execution_count": 54,
     "metadata": {},
     "output_type": "execute_result"
    }
   ],
   "source": [
    "# retreive the parent of the navigatable string object\n",
    "first_link.string.parent"
   ]
  },
  {
   "cell_type": "code",
   "execution_count": null,
   "id": "fb01ce94",
   "metadata": {},
   "outputs": [],
   "source": []
  },
  {
   "cell_type": "markdown",
   "id": "e577ba13",
   "metadata": {},
   "source": [
    "### Segment 3 - Data Parsing"
   ]
  },
  {
   "cell_type": "raw",
   "id": "cb451491",
   "metadata": {},
   "source": [
    "Working with parsed data in BeautifulSoup:\n",
    "    1. Parsing Data : just pass an HTML/XML document to the BeautifulSOup constructor; the consytructor converts the document to unicode and then parses it with a built-in HTML parse(by default)\n",
    "    2. Getting data from a aparsed tree\n",
    "    3. Searching and retreiving data from a parse tree"
   ]
  },
  {
   "cell_type": "markdown",
   "id": "d8e5eb93",
   "metadata": {},
   "source": [
    "#### Searching and retreiving Data"
   ]
  },
  {
   "cell_type": "raw",
   "id": "03bc5654",
   "metadata": {},
   "source": [
    "find_all() method:\n",
    "    Searches a tag and its descendants to retreive tags or strings that match the filters\n",
    "    \n",
    "Methods for searching and filtering a parse tree:  \n",
    "  Name Argument        Keyword Argument        STring Argument                Lists\n",
    "  Boolean Values       Strings                 Regular Expressions\n",
    "We can pass any of these arguments into the find_all( to use as filters and return either strings or tags"
   ]
  },
  {
   "cell_type": "code",
   "execution_count": 55,
   "id": "e9422df4",
   "metadata": {},
   "outputs": [],
   "source": [
    "from bs4 import BeautifulSoup\n",
    "\n",
    "import urllib\n",
    "import urllib.request\n",
    "import re"
   ]
  },
  {
   "cell_type": "code",
   "execution_count": 60,
   "id": "6faf8d94",
   "metadata": {},
   "outputs": [],
   "source": [
    "# Load the data/html file\n",
    "# with urllib.request.urlopen('https://github.com/ms-robot-please/Data-Mania-Demos/blob/master/IoT-2018.html') as response:\n",
    "with urllib.request.urlopen('https://raw.githubusercontent.com/BigDataGal/Data-Mania-Demos/master/IoT-2018.html') as response:\n",
    "    html = response.read() "
   ]
  },
  {
   "cell_type": "code",
   "execution_count": 61,
   "id": "a4f59365",
   "metadata": {},
   "outputs": [
    {
     "data": {
      "text/plain": [
       "bs4.BeautifulSoup"
      ]
     },
     "execution_count": 61,
     "metadata": {},
     "output_type": "execute_result"
    }
   ],
   "source": [
    "soup = BeautifulSoup(html,'lxml')\n",
    "type(soup)"
   ]
  },
  {
   "cell_type": "markdown",
   "id": "81aa9715",
   "metadata": {},
   "source": [
    "##### Parsing the data"
   ]
  },
  {
   "cell_type": "code",
   "execution_count": 62,
   "id": "e3401f53",
   "metadata": {},
   "outputs": [
    {
     "name": "stdout",
     "output_type": "stream",
     "text": [
      "<html>\n",
      " <head>\n",
      "  <title>\n",
      "   IoT Articles\n",
      "  </title>\n",
      " </head>\n",
      " <body>\n",
      "  <p class=\"title\">\n",
      "   <b>\n",
      "    2018 Trends: Best New IoT Device Ideas for Data Scientists and Engineers\n",
      "   </b>\n",
      "  </p>\n",
      "  <p class=\"description\">\n",
      "   It’s almost 2018 and IoT is on the cusp of an explosive expansion. In this article,\n"
     ]
    }
   ],
   "source": [
    "print(soup.prettify()[:300])"
   ]
  },
  {
   "cell_type": "markdown",
   "id": "3478cf84",
   "metadata": {},
   "source": [
    "#### Getting data from a parse tree"
   ]
  },
  {
   "cell_type": "code",
   "execution_count": 63,
   "id": "1ef71c1e",
   "metadata": {},
   "outputs": [
    {
     "name": "stdout",
     "output_type": "stream",
     "text": [
      "IoT Articles\n",
      "\n",
      "2018 Trends: Best New IoT Device Ideas for Data Scientists and Engineers\n",
      "It’s almost 2018 and IoT is on the cusp of an explosive expansion. In this article, I offer you a listing of new IoT device ideas that you can use...\r\n",
      "\n",
      "\r\n",
      "It’s almost 2018 and IoT is on the cusp of an explosive expansion. In this article, I offer you a listing of new IoT device ideas that you can use to get practice in designing your first IoT applications.\r\n",
      "Looking Back at My Coolest IoT Find in 2017\r\n",
      "Before going into detail about best new IoT device ideas, here’s the backstory. Last month Ericsson Digital invited me to tour the Ericsson Studio in Kista, Sweden. Up until that visit, IoT had been largely theoretical to me. Of course, I know the usual mumbo-jumbo about wearables and IoT-connected fitness trackers. That stuff is all well and good, but it’s somewhat old hat – plus I am not sure we are really benefiting so much from those, so I’m not that impressed.\r\n",
      "\r\n",
      "It wasn’t until I got to the Ericsson Studio that I became extremely impressed by how far IoT has really come. Relying on the promise of the 5g network expansion, IoT-powered smart devices are on the cusp of an explosive growth in adoption. It was Ericsson’s Smart Car that sent me reeling:\r\n",
      "\r\n",
      "This car is connected to Ericsson’s Connected Vehicle Cloud, an IoT platform that manages services for the Smart Cars to which it’s connected. The Volvo pictured above acts as a drop-off location for groceries that have been ordered by its owner.\r\n",
      "\r\n",
      "To understand how it works, imagine you’re pulling your normal 9-to-5 and you know you need to grab some groceries on your way home. Well, since you’re smart you’ve used Ericsson IoT platform to connect your car to the local grocery delivery service (Mat.se), so all you need to do is open the Mat.se app and make your usual order. Mat.se automatically handles the payment, grocery selection, delivery, and delivery scheduling. Since your car is IoT-enabled, Mat.se issues its trusted delivery agent a 1-time token to use for opening your car in order to place your groceries in your car for you at 4:40 pm (just before you get off from work).\r\n",
      "\r\n",
      "To watch some of the amazing IoT device demos I witnessed at Ericsson Studio, make sure to go watch the videos on this page.\r\n",
      "Future Trends for IoT in 2018\r\n",
      "New IoT device ideas won’t do you much good unless you at least know the basic technology trends that are set to impact IoT over the next year(s). These include:\r\n",
      "\n",
      "Big Data & Data Engineering: Sensors that are embedded within IoT devices spin off machine-generated data like it’s going out of style. For IoT to function, the platform must be solidly engineered to handle big data. Be assured, that requires some serious data engineering.\n",
      "Machine Learning Data Science: While a lot of IoT devices are still operated according to rules-based decision criteria, the age of artificial intelligence is upon us. IoT will increasingly depend on machine learning algorithms to control device operations so that devices are able to autonomously respond to a complex set of overlapping stimuli.\n",
      "Blockchain-Enabled Security: Above all else, IoT networks must be secure. Blockchain technology is primed to meet the security demands that come along with building and expanding the IoT.\n",
      "\n",
      "Best New IoT Device Ideas\r\n",
      "This listing of new IoT device ideas has been sub-divided according to the main technology upon which the IoT devices are built. Below I’m providing a list of new IoT device ideas, but for detailed instructions on how to build these IoT applications, I recommend the IoT courses on Udemy (ß Please note: if you purchase a Udemy course through this link, I may receive a small commission), or courses that are available at SkyFi and Coursera.\r\n",
      "Raspberry Pi IoT Ideas\r\n",
      "Using Raspberry Pi as open-source hardware, you can build IoT applications that offer any one of the following benefits:\r\n",
      "\n",
      "Enable built-in sensing to build a weather station that measures ambient temperature and humidity\n",
      "Build a system that detects discrepancies in electrical readings to identify electricity theft\n",
      "Use IoT to build a Servo that is controlled by motion detection readings\n",
      "Build a smart control switch that operates devices based on external stimuli. Use this for home automation.\n",
      "Build a music playing application that enables music for each room in your house\n",
      "Implement biometrics on IoT-connected devices\n",
      "\n",
      "Arduino IoT Ideas\r\n",
      "There are a number of new IoT device ideas that deploy Arduino as a microcontroller. These include:\r\n",
      "\n",
      "Integrate Arduino with Android to build a remote-control RGB LED device.\n",
      "Connect PIR sensors across the IoT to implement a smart building.\n",
      "Build a temperature and sunlight sensor system to remotely monitor and control the conditions of your garden.\n",
      "Deploy Arduino and IoT to automate your neighborhood streetlights.\n",
      "Build a smart irrigation system based on IoT-connected temperature and moisture sensors built-in to your agricultural plants.\n",
      "\r\n",
      "[caption id=\"attachment_3807\" align=\"aligncenter\" width=\"300\"] An IoT Chatbot Tree at the Ericsson Studio[/caption]\r\n",
      "Wireless (GSM) IoT Ideas\r\n",
      "Several new IoT device ideas are developed around the GSM wireless network. Those are:\r\n",
      "\n",
      "Monitor soil moisture to automate agricultural irrigation cycles.\n",
      "Automate and control the conditions of a greenhouse.\n",
      "Enable bio-metrics to build a smart security system for your home or office building\n",
      "Build an autonomously operating fitness application that automatically makes recommendations based on motion detection and heart rate sensors that are embedded on wearable fitness trackers.\n",
      "Build a healthcare monitoring system that tracks, informs, and automatically alerts healthcare providers based on sensor readings that describe a patients vital statistics (like temperature, pulse, blood pressure, etc).\n",
      "\n",
      "IoT Automation Ideas\r\n",
      "Almost all new IoT device ideas offer automation benefits, but to outline a few more ideas:\r\n",
      "\n",
      "Build an IoT device that automatically locates and reports the closest nearby parking spot.\n",
      "Build a motion detection system that automatically issues emails or sms messages to alert home owners of a likely home invasion.\n",
      "Use temperature sensors connected across the IoT to automatically alert you if your home windows or doors have been left open.\n",
      "Use bio-metric sensors to build a smart system that automate security for your home or office building\n",
      "\r\n",
      "To learn more about IoT and what’s happening on the leading edge, be sure to pop over to Ericsson’s Studio Tour recap and watch these videos.\r\n",
      "\r\n",
      "(I captured some of this content on behalf of DevMode Strategies during an invite-only tour of the Ericsson Studio in Kista. Rest assure, the text and opinions are my own)\r\n",
      "...\n"
     ]
    }
   ],
   "source": [
    "text_only = soup.get_text()\n",
    "print(text_only)"
   ]
  },
  {
   "cell_type": "markdown",
   "id": "715bff81",
   "metadata": {},
   "source": [
    "#### Searching and retreiving data from a parse tree"
   ]
  },
  {
   "cell_type": "markdown",
   "id": "284ab9d4",
   "metadata": {},
   "source": [
    "##### Retreiving tags by filtering with Name Arguments"
   ]
  },
  {
   "cell_type": "code",
   "execution_count": 64,
   "id": "57f30032",
   "metadata": {},
   "outputs": [
    {
     "data": {
      "text/plain": [
       "[<li><strong>Big Data</strong> &amp; Data Engineering: Sensors that are embedded within IoT devices spin off machine-generated data like it’s going out of style. For IoT to function, the platform must be solidly engineered to handle big data. Be assured, that requires some serious data engineering.</li>,\n",
       " <li><strong>Machine Learning</strong> Data Science: While a lot of IoT devices are still operated according to rules-based decision criteria, the age of artificial intelligence is upon us. IoT will increasingly depend on machine learning algorithms to control device operations so that devices are able to autonomously respond to a complex set of overlapping stimuli.</li>,\n",
       " <li><strong>Blockchain</strong>-Enabled Security: Above all else, IoT networks must be secure. Blockchain technology is primed to meet the security demands that come along with building and expanding the IoT.</li>,\n",
       " <li>Enable built-in sensing to build a weather station that measures ambient temperature and humidity</li>,\n",
       " <li>Build a system that detects discrepancies in electrical readings to identify electricity theft</li>,\n",
       " <li>Use IoT to build a Servo that is controlled by motion detection readings</li>,\n",
       " <li>Build a smart control switch that operates devices based on external stimuli. Use this for home automation.</li>,\n",
       " <li>Build a music playing application that enables music for each room in your house</li>,\n",
       " <li>Implement biometrics on IoT-connected devices</li>,\n",
       " <li>Integrate Arduino with Android to build a remote-control RGB LED device.</li>,\n",
       " <li>Connect PIR sensors across the IoT to implement a smart building.</li>,\n",
       " <li>Build a temperature and sunlight sensor system to remotely monitor and control the conditions of your garden.</li>,\n",
       " <li>Deploy Arduino and IoT to automate your neighborhood streetlights.</li>,\n",
       " <li>Build a smart irrigation system based on IoT-connected temperature and moisture sensors built-in to your agricultural plants.</li>,\n",
       " <li>Monitor soil moisture to automate agricultural irrigation cycles.</li>,\n",
       " <li>Automate and control the conditions of a greenhouse.</li>,\n",
       " <li>Enable bio-metrics to build a smart security system for your home or office building</li>,\n",
       " <li>Build an autonomously operating fitness application that automatically makes recommendations based on motion detection and heart rate sensors that are embedded on wearable fitness trackers.</li>,\n",
       " <li>Build a healthcare monitoring system that tracks, informs, and automatically alerts healthcare providers based on sensor readings that describe a patients vital statistics (like temperature, pulse, blood pressure, etc).</li>,\n",
       " <li>Build an IoT device that automatically locates and reports the closest nearby parking spot.</li>,\n",
       " <li>Build a motion detection system that automatically issues emails or sms messages to alert home owners of a likely home invasion.</li>,\n",
       " <li>Use temperature sensors connected across the IoT to automatically alert you if your home windows or doors have been left open.</li>,\n",
       " <li>Use bio-metric sensors to build a smart system that automate security for your home or office building</li>]"
      ]
     },
     "execution_count": 64,
     "metadata": {},
     "output_type": "execute_result"
    }
   ],
   "source": [
    "# Searches for tags by filtering based on name tag\n",
    "soup.find_all('li') # filters all tags having name \"li\" and prints those only"
   ]
  },
  {
   "cell_type": "markdown",
   "id": "f197f225",
   "metadata": {},
   "source": [
    "##### Retreiving tags by filtering with Keyword Arguments"
   ]
  },
  {
   "cell_type": "code",
   "execution_count": 66,
   "id": "bc220364",
   "metadata": {},
   "outputs": [
    {
     "data": {
      "text/plain": [
       "[<a class=\"preview\" href=\"http://www.skyfilabs.com/iot-online-courses\" id=\"link 7\">SkyFi</a>]"
      ]
     },
     "execution_count": 66,
     "metadata": {},
     "output_type": "execute_result"
    }
   ],
   "source": [
    "# filters by tag attributes\n",
    "soup.find_all(id='link 7') # all atags having id = link7 as a keyword"
   ]
  },
  {
   "cell_type": "markdown",
   "id": "edbfa085",
   "metadata": {},
   "source": [
    "##### Retreiving tags by filtering with String Arguments"
   ]
  },
  {
   "cell_type": "code",
   "execution_count": 69,
   "id": "80676a7c",
   "metadata": {},
   "outputs": [
    {
     "data": {
      "text/plain": [
       "[<ol>\n",
       " <li><strong>Big Data</strong> &amp; Data Engineering: Sensors that are embedded within IoT devices spin off machine-generated data like it’s going out of style. For IoT to function, the platform must be solidly engineered to handle big data. Be assured, that requires some serious data engineering.</li>\n",
       " <li><strong>Machine Learning</strong> Data Science: While a lot of IoT devices are still operated according to rules-based decision criteria, the age of artificial intelligence is upon us. IoT will increasingly depend on machine learning algorithms to control device operations so that devices are able to autonomously respond to a complex set of overlapping stimuli.</li>\n",
       " <li><strong>Blockchain</strong>-Enabled Security: Above all else, IoT networks must be secure. Blockchain technology is primed to meet the security demands that come along with building and expanding the IoT.</li>\n",
       " </ol>,\n",
       " <ol>\n",
       " <li>Enable built-in sensing to build a weather station that measures ambient temperature and humidity</li>\n",
       " <li>Build a system that detects discrepancies in electrical readings to identify electricity theft</li>\n",
       " <li>Use IoT to build a Servo that is controlled by motion detection readings</li>\n",
       " <li>Build a smart control switch that operates devices based on external stimuli. Use this for home automation.</li>\n",
       " <li>Build a music playing application that enables music for each room in your house</li>\n",
       " <li>Implement biometrics on IoT-connected devices</li>\n",
       " </ol>,\n",
       " <ol>\n",
       " <li>Integrate Arduino with Android to build a remote-control RGB LED device.</li>\n",
       " <li>Connect PIR sensors across the IoT to implement a smart building.</li>\n",
       " <li>Build a temperature and sunlight sensor system to remotely monitor and control the conditions of your garden.</li>\n",
       " <li>Deploy Arduino and IoT to automate your neighborhood streetlights.</li>\n",
       " <li>Build a smart irrigation system based on IoT-connected temperature and moisture sensors built-in to your agricultural plants.</li>\n",
       " </ol>,\n",
       " <ol>\n",
       " <li>Monitor soil moisture to automate agricultural irrigation cycles.</li>\n",
       " <li>Automate and control the conditions of a greenhouse.</li>\n",
       " <li>Enable bio-metrics to build a smart security system for your home or office building</li>\n",
       " <li>Build an autonomously operating fitness application that automatically makes recommendations based on motion detection and heart rate sensors that are embedded on wearable fitness trackers.</li>\n",
       " <li>Build a healthcare monitoring system that tracks, informs, and automatically alerts healthcare providers based on sensor readings that describe a patients vital statistics (like temperature, pulse, blood pressure, etc).</li>\n",
       " </ol>,\n",
       " <ol>\n",
       " <li>Build an IoT device that automatically locates and reports the closest nearby parking spot.</li>\n",
       " <li>Build a motion detection system that automatically issues emails or sms messages to alert home owners of a likely home invasion.</li>\n",
       " <li>Use temperature sensors connected across the IoT to automatically alert you if your home windows or doors have been left open.</li>\n",
       " <li>Use bio-metric sensors to build a smart system that automate security for your home or office building</li>\n",
       " </ol>]"
      ]
     },
     "execution_count": 69,
     "metadata": {},
     "output_type": "execute_result"
    }
   ],
   "source": [
    "# filters based on an exact string\n",
    "soup.find_all('ol') # filters outt all with \"ol\" tag"
   ]
  },
  {
   "cell_type": "markdown",
   "id": "87bc9774",
   "metadata": {},
   "source": [
    "##### Retreiving tags by filtering with List Objects"
   ]
  },
  {
   "cell_type": "code",
   "execution_count": 71,
   "id": "f2401989",
   "metadata": {},
   "outputs": [
    {
     "data": {
      "text/plain": [
       "[<b>2018 Trends: Best New IoT Device Ideas for Data Scientists and Engineers</b>,\n",
       " <ol>\n",
       " <li><strong>Big Data</strong> &amp; Data Engineering: Sensors that are embedded within IoT devices spin off machine-generated data like it’s going out of style. For IoT to function, the platform must be solidly engineered to handle big data. Be assured, that requires some serious data engineering.</li>\n",
       " <li><strong>Machine Learning</strong> Data Science: While a lot of IoT devices are still operated according to rules-based decision criteria, the age of artificial intelligence is upon us. IoT will increasingly depend on machine learning algorithms to control device operations so that devices are able to autonomously respond to a complex set of overlapping stimuli.</li>\n",
       " <li><strong>Blockchain</strong>-Enabled Security: Above all else, IoT networks must be secure. Blockchain technology is primed to meet the security demands that come along with building and expanding the IoT.</li>\n",
       " </ol>,\n",
       " <ol>\n",
       " <li>Enable built-in sensing to build a weather station that measures ambient temperature and humidity</li>\n",
       " <li>Build a system that detects discrepancies in electrical readings to identify electricity theft</li>\n",
       " <li>Use IoT to build a Servo that is controlled by motion detection readings</li>\n",
       " <li>Build a smart control switch that operates devices based on external stimuli. Use this for home automation.</li>\n",
       " <li>Build a music playing application that enables music for each room in your house</li>\n",
       " <li>Implement biometrics on IoT-connected devices</li>\n",
       " </ol>,\n",
       " <ol>\n",
       " <li>Integrate Arduino with Android to build a remote-control RGB LED device.</li>\n",
       " <li>Connect PIR sensors across the IoT to implement a smart building.</li>\n",
       " <li>Build a temperature and sunlight sensor system to remotely monitor and control the conditions of your garden.</li>\n",
       " <li>Deploy Arduino and IoT to automate your neighborhood streetlights.</li>\n",
       " <li>Build a smart irrigation system based on IoT-connected temperature and moisture sensors built-in to your agricultural plants.</li>\n",
       " </ol>,\n",
       " <ol>\n",
       " <li>Monitor soil moisture to automate agricultural irrigation cycles.</li>\n",
       " <li>Automate and control the conditions of a greenhouse.</li>\n",
       " <li>Enable bio-metrics to build a smart security system for your home or office building</li>\n",
       " <li>Build an autonomously operating fitness application that automatically makes recommendations based on motion detection and heart rate sensors that are embedded on wearable fitness trackers.</li>\n",
       " <li>Build a healthcare monitoring system that tracks, informs, and automatically alerts healthcare providers based on sensor readings that describe a patients vital statistics (like temperature, pulse, blood pressure, etc).</li>\n",
       " </ol>,\n",
       " <ol>\n",
       " <li>Build an IoT device that automatically locates and reports the closest nearby parking spot.</li>\n",
       " <li>Build a motion detection system that automatically issues emails or sms messages to alert home owners of a likely home invasion.</li>\n",
       " <li>Use temperature sensors connected across the IoT to automatically alert you if your home windows or doors have been left open.</li>\n",
       " <li>Use bio-metric sensors to build a smart system that automate security for your home or office building</li>\n",
       " </ol>]"
      ]
     },
     "execution_count": 71,
     "metadata": {},
     "output_type": "execute_result"
    }
   ],
   "source": [
    "# filters with all values in list\n",
    "soup.find_all(['ol', 'b']) # filters only \"ol\" and \"b\" tags"
   ]
  },
  {
   "cell_type": "markdown",
   "id": "52e0680a",
   "metadata": {},
   "source": [
    "##### Retreiving tags by filtering with regular expressions"
   ]
  },
  {
   "cell_type": "code",
   "execution_count": 72,
   "id": "22b3174e",
   "metadata": {},
   "outputs": [
    {
     "name": "stdout",
     "output_type": "stream",
     "text": [
      "html\n",
      "title\n",
      "strong\n",
      "strong\n",
      "strong\n",
      "strong\n",
      "strong\n",
      "strong\n"
     ]
    }
   ],
   "source": [
    "t = re.compile(\"t\")\n",
    "for tag in soup.find_all(t):\n",
    "    print(tag.name)"
   ]
  },
  {
   "cell_type": "markdown",
   "id": "48e3d9ae",
   "metadata": {},
   "source": [
    "##### Retreiving tags by filtering with Boolean Value"
   ]
  },
  {
   "cell_type": "code",
   "execution_count": 73,
   "id": "9f4acd53",
   "metadata": {},
   "outputs": [
    {
     "name": "stdout",
     "output_type": "stream",
     "text": [
      "html\n",
      "head\n",
      "title\n",
      "body\n",
      "p\n",
      "b\n",
      "p\n",
      "br\n",
      "br\n",
      "h1\n",
      "span\n",
      "strong\n",
      "a\n",
      "a\n",
      "a\n",
      "img\n",
      "a\n",
      "span\n",
      "strong\n",
      "a\n",
      "h1\n",
      "ol\n",
      "li\n",
      "strong\n",
      "li\n",
      "strong\n",
      "li\n",
      "strong\n",
      "h1\n",
      "a\n",
      "a\n",
      "a\n",
      "h2\n",
      "ol\n",
      "li\n",
      "li\n",
      "li\n",
      "li\n",
      "li\n",
      "li\n",
      "h2\n",
      "ol\n",
      "li\n",
      "li\n",
      "li\n",
      "li\n",
      "li\n",
      "a\n",
      "img\n",
      "h2\n",
      "ol\n",
      "li\n",
      "li\n",
      "li\n",
      "li\n",
      "li\n",
      "h2\n",
      "ol\n",
      "li\n",
      "li\n",
      "li\n",
      "li\n",
      "span\n",
      "strong\n",
      "a\n",
      "em\n",
      "p\n"
     ]
    }
   ],
   "source": [
    "for tag in soup.find_all(True): # \n",
    "    print(tag.name)"
   ]
  },
  {
   "cell_type": "markdown",
   "id": "e108f04f",
   "metadata": {},
   "source": [
    "##### Retreiving weblinks by filtering with string objects"
   ]
  },
  {
   "cell_type": "code",
   "execution_count": 75,
   "id": "1f5fafa4",
   "metadata": {},
   "outputs": [
    {
     "name": "stdout",
     "output_type": "stream",
     "text": [
      "http://bit.ly/LPlNDJj\n",
      "http://www.data-mania.com/blog/m2m-vs-iot/\n",
      "bit.ly/LPlNDJj\n",
      "http://mat.se/\n",
      "http://bit.ly/LPlNDJj\n",
      "https://click.linksynergy.com/deeplink?id=*JDLXjeE*wk&mid=39197&murl=https%3A%2F%2Fwww.udemy.com%2Ftopic%2Finternet-of-things%2F%3Fsort%3Dhighest-rated\n",
      "http://www.skyfilabs.com/iot-online-courses\n",
      "https://www.coursera.org/specializations/iot\n",
      "bit.ly/LPlNDJj\n",
      "http://bit.ly/LPlNDJj\n"
     ]
    }
   ],
   "source": [
    "for link in soup.find_all('a'):\n",
    "    print(link.get('href')) # prints each links from all a tags from the parsed string"
   ]
  },
  {
   "cell_type": "markdown",
   "id": "0692b5fa",
   "metadata": {},
   "source": [
    "#### Retreiving strings by filtering with regular expressions"
   ]
  },
  {
   "cell_type": "code",
   "execution_count": 77,
   "id": "f4913e03",
   "metadata": {},
   "outputs": [
    {
     "data": {
      "text/plain": [
       "[' & Data Engineering: Sensors that are embedded within IoT devices spin off machine-generated data like it’s going out of style. For IoT to function, the platform must be solidly engineered to handle big data. Be assured, that requires some serious data engineering.']"
      ]
     },
     "execution_count": 77,
     "metadata": {},
     "output_type": "execute_result"
    }
   ],
   "source": [
    "# filters the parsed tree by regex with data in it\n",
    "soup.find_all(string=re.compile('data'))"
   ]
  },
  {
   "cell_type": "code",
   "execution_count": null,
   "id": "0a9f87f5",
   "metadata": {},
   "outputs": [],
   "source": []
  },
  {
   "cell_type": "markdown",
   "id": "35540b81",
   "metadata": {},
   "source": [
    "### Segement 4 - Webscraping"
   ]
  },
  {
   "cell_type": "code",
   "execution_count": 83,
   "id": "c52820d4",
   "metadata": {},
   "outputs": [],
   "source": [
    "from bs4 import BeautifulSoup\n",
    "import urllib.request\n",
    "from IPython.display import HTML\n",
    "import re"
   ]
  },
  {
   "cell_type": "code",
   "execution_count": 85,
   "id": "11996dda",
   "metadata": {},
   "outputs": [
    {
     "data": {
      "text/plain": [
       "bs4.BeautifulSoup"
      ]
     },
     "execution_count": 85,
     "metadata": {},
     "output_type": "execute_result"
    }
   ],
   "source": [
    "r = urllib.request.urlopen('https://analytics.usa.gov/').read()\n",
    "soup = BeautifulSoup(r, 'lxml')\n",
    "type(soup)"
   ]
  },
  {
   "cell_type": "code",
   "execution_count": 86,
   "id": "bd54117b",
   "metadata": {},
   "outputs": [
    {
     "name": "stdout",
     "output_type": "stream",
     "text": [
      "<!DOCTYPE html>\n",
      "<html lang=\"en\">\n",
      " <!-- Initalize title and data source variables -->\n",
      " <head>\n",
      "  <!--\n",
      "\n"
     ]
    }
   ],
   "source": [
    "print(soup.prettify()[:100])"
   ]
  },
  {
   "cell_type": "code",
   "execution_count": 87,
   "id": "ce7dea54",
   "metadata": {},
   "outputs": [
    {
     "name": "stdout",
     "output_type": "stream",
     "text": [
      "/\n",
      "#explanation\n",
      "/data/\n",
      "https://open.gsa.gov/api/dap/\n",
      "data/\n",
      "#top-pages-realtime\n",
      "#top-pages-7-days\n",
      "#top-pages-30-days\n",
      "https://analytics.usa.gov/data/live/all-pages-realtime.csv\n",
      "https://analytics.usa.gov/data/live/all-domains-30-days.csv\n",
      "https://digital.gov/services/dap/\n",
      "https://digital.gov/services/dap/common-questions-about-dap-faq/#part-4\n",
      "https://support.google.com/analytics/answer/2763052?hl=en\n",
      "https://analytics.usa.gov/data/live/second-level-domains.csv\n",
      "https://analytics.usa.gov/data/live/sites.csv\n",
      "mailto:dap@gsa.gov\n",
      "/data/\n",
      "https://open.gsa.gov/api/dap/\n",
      "mailto:dap@gsa.gov\n",
      "https://github.com/18F/analytics.usa.gov/issues\n",
      "https://github.com/18F/analytics.usa.gov\n",
      "https://github.com/18F/analytics-reporter\n",
      "https://www.gsa.gov/\n",
      "https://digital.gov/guides/dap/\n",
      "https://cloud.gov/\n"
     ]
    }
   ],
   "source": [
    "# find all tags and retreive all href values\n",
    "for link in soup.find_all('a'):\n",
    "    print(link.get('href'))"
   ]
  },
  {
   "cell_type": "code",
   "execution_count": 88,
   "id": "c0fdff4f",
   "metadata": {},
   "outputs": [
    {
     "name": "stdout",
     "output_type": "stream",
     "text": [
      "\n",
      "\n",
      "\n",
      "\n",
      "\n",
      "\n",
      "\n",
      "\n",
      "\n",
      "\n",
      "\n",
      "\n",
      "\n",
      "\n",
      "\n",
      "analytics.usa.gov | The US government's web traffic.\n",
      "\n",
      "\n",
      "\n",
      "\n",
      "\n",
      "\n",
      "\n",
      "\n",
      "\n",
      "\n",
      "\n",
      "\n",
      "\n",
      "\n",
      "\n",
      "\n",
      "\n",
      "\n",
      "\n",
      "\n",
      "\n",
      "\n",
      "analytics.usa.gov\n",
      "              \n",
      "\n",
      "\n",
      "About this site\n",
      "\n",
      "Data ·\n",
      "                API\n",
      "\n",
      "\n",
      "\n",
      "\n",
      "Select an agency\n",
      "\n",
      "All Participating Websites\n",
      "Agency for International Development\n",
      "Department of Agriculture\n",
      "Department of Commerce\n",
      "Department of Defense\n",
      "Department of Education\n",
      "Department of Energy\n",
      "Department of Health and Human Services\n",
      "Department of Homeland Security\n",
      "Department of Justice\n",
      "Department of Labor\n",
      "Department of State\n",
      "Department of Transportation\n",
      "Department of Veterans Affairs\n",
      "Department of the Interior\n",
      "Department of the Treasury\n",
      "Environmental Protection Agency\n",
      "Executive Office of the President\n",
      "General Services Administration\n",
      "National Aeronautics and Space Administration\n",
      "National Archives and Records Administration\n",
      "National Science Foundation\n",
      "Nuclear Regulatory Commission\n",
      "Office of Personnel Management\n",
      "Postal Service\n",
      "Small Business Administration\n",
      "Social Security Administration\n",
      "\n",
      "\n",
      "\n",
      "\n",
      "\n",
      "\n",
      "\n",
      "\n",
      "\n",
      "        Realtime data currently not available\n",
      "      \n",
      "\n",
      "        Google Analytics Universal Analytics, which powers analytics.usa.gov, has degraded accuracy for realtime reporting. As a result, realtime data may be inaccurate. Stay tuned for future announcements regarding analytics.usa.gov redesign and migration to GA4.\n",
      "      \n",
      "\n",
      "\n",
      "\n",
      "\n",
      "\n",
      "...\n",
      "people on government websites now\n",
      "\n",
      "\n",
      "Visits Today\n",
      "Eastern Time\n",
      "\n",
      "\n",
      "\n",
      "\n",
      "\n",
      "\n",
      "Visits in the Past 90 Days\n",
      "\n",
      "\n",
      "          There were ... visits over the past 90 days.\n",
      "        \n",
      "\n",
      "Devices\n",
      "\n",
      "\n",
      "\n",
      "\n",
      "\n",
      "            Based on rough network segmentation data, we estimate that less than 5% of all traffic across all agencies comes from US federal government networks.\n",
      "          \n",
      "\n",
      "            Much more detailed data is available in downloadable CSV and JSON. This includes data on combined browser and OS usage.\n",
      "          \n",
      "\n",
      "\n",
      "Browsers\n",
      "\n",
      "\n",
      "\n",
      "\n",
      "\n",
      "Internet Explorer\n",
      "\n",
      "\n",
      "\n",
      "\n",
      "\n",
      "Operating Systems\n",
      "\n",
      "\n",
      "\n",
      "\n",
      "\n",
      "Windows\n",
      "\n",
      "\n",
      "\n",
      "\n",
      "\n",
      "\n",
      "\n",
      "Visitor Locations Right Now\n",
      "\n",
      "\n",
      "Cities\n",
      "\n",
      "\n",
      "\n",
      "\n",
      "\n",
      "\n",
      "Countries\n",
      "\n",
      "\n",
      "\n",
      "\n",
      "\n",
      "United States & Territories\n",
      "\n",
      "\n",
      "\n",
      "\n",
      "International\n",
      "\n",
      "\n",
      "\n",
      "\n",
      "\n",
      "\n",
      "\n",
      "\n",
      "Top Pages\n",
      "\n",
      "Now\n",
      "7 Days\n",
      "30 Days\n",
      "\n",
      "\n",
      "\n",
      "              People on a single, specific page now. We only count pages with at least 10 people on the page.\n",
      "              Download the full dataset.\n",
      "\n",
      "\n",
      "\n",
      "\n",
      "\n",
      "Visits over the last week to domains, including traffic to all pages within that domain.\n",
      "\n",
      "\n",
      "\n",
      "\n",
      "\n",
      "              Visits over the last month to domains, including traffic to all pages within that domain. We only count pages with at least 1,000 visits in the last month.\n",
      "              Download the full dataset.\n",
      "\n",
      "\n",
      "\n",
      "\n",
      "\n",
      "\n",
      "Top Downloads\n",
      "Total file downloads yesterday on government domains.\n",
      "\n",
      "\n",
      "\n",
      "\n",
      "\n",
      "\n",
      "\n",
      "\n",
      "About this Site\n",
      "\n",
      "            These data provide a window into how people are interacting with the government online.\n",
      "             The data come from a unified Google Analytics account for U.S. federal government agencies known as the Digital Analytics Program.\n",
      "              This program helps government agencies understand how people find, access, and use government services online. The program does not track individuals,\n",
      "               and anonymizes the IP addresses of visitors.\n",
      "          \n",
      "\n",
      "            Not every government website is represented in these data.\n",
      "            Currently, the Digital Analytics Program collects web traffic from around 400 executive branch government domains,\n",
      "             across about 5,700 total websites,\n",
      "              including every cabinet department.\n",
      "               We continue to pursue and add more sites frequently; to add your site, email the Digital Analytics Program.\n",
      "          \n",
      "\n",
      "\n",
      "Download the data\n",
      "You can download the data here. Available in JSON and CSV format.\n",
      " Additionally, you can access data via\n",
      "          API (currently in Beta).\n",
      "        \n",
      "A note on sampling\n",
      "\n",
      "          Due to varying Google Analytics API sampling thresholds and the sheer volume of data in this project,\n",
      "          some non-realtime reports may be subject to sampling.\n",
      "          The data are intended to represent trends and numbers may not be precise.\n",
      "        \n",
      "\n",
      "\n",
      "\n",
      "\n",
      "\n",
      "\n",
      "Have a question or problem?\n",
      "              \n",
      "              Get in touch.\n",
      "              \n",
      "\n",
      "\n",
      "                  Suggest a feature or report an issue\n",
      "            \n",
      "\n",
      "\n",
      "\n",
      "\n",
      "              View application code on GitHub\n",
      "\n",
      "\n",
      "\n",
      "              View code for the data on GitHub\n",
      "\n",
      "\n",
      "\n",
      "\n",
      "\n",
      "\n",
      "\n",
      "\n",
      "\n",
      "\n",
      "\n",
      "Analytics.usa.gov is a project of GSA’s Digital Analytics Program.\n",
      "This website is hosted on cloud.gov.\n",
      "\n",
      "\n",
      "\n",
      "\n",
      "\n",
      "\n",
      "\n",
      "\n",
      "\n",
      "\n",
      "\n",
      "\n"
     ]
    }
   ],
   "source": [
    "# to get the body of text \n",
    "print(soup.get_text())\n"
   ]
  },
  {
   "cell_type": "code",
   "execution_count": 89,
   "id": "d4df49da",
   "metadata": {},
   "outputs": [
    {
     "name": "stdout",
     "output_type": "stream",
     "text": [
      "<!DOCTYPE html>\n",
      "<html lang=\"en\">\n",
      " <!-- Initalize title and data source variables -->\n",
      " <head>\n",
      "  <!--\n",
      "\n",
      "    Hi! Welcome to our source code.\n",
      "\n",
      "    This dashboard uses data from the Digital Analytics Program, a US\n",
      "    government team inside the General Services Administration.\n",
      "\n",
      "\n",
      "    For a detailed tech breakdown of how 18F and friends built this site:\n",
      "\n",
      "    https://18f.gsa.gov/2015/03/19/how-we-built-analytics-usa-gov/\n",
      "\n",
      "\n",
      "    This is a fully open source project, and your contributions are welcome.\n",
      "\n",
      "    Frontend static site: https://github.com/18F/analytics.usa.gov\n",
      "    Backend data reporting: https://github.com/18F/analytics-reporter\n",
      "\n",
      "    -->\n",
      "  <meta charset=\"utf-8\"/>\n",
      "  <meta content=\"IE=Edge\" http-equiv=\"X-UA-Compatible\"/>\n",
      "  <meta content=\"NjbZn6hQe7OwV-nTsa6nLmtrOUcSGPRyFjxm5zkmCcg\" name=\"google-site-verification\"/>\n",
      "  <link href=\"/css/vendor/css/uswds.v0.9.6.css\" rel=\"stylesheet\"/>\n",
      "  <link href=\"/css/public_analytics.css\" rel=\"stylesheet\"/>\n",
      "  <link href=\"/images/analytics-favicon.ico\" rel=\"ic\n"
     ]
    }
   ],
   "source": [
    "print(soup.prettify()[:1000])"
   ]
  },
  {
   "cell_type": "code",
   "execution_count": 91,
   "id": "e3b82d99",
   "metadata": {},
   "outputs": [
    {
     "name": "stdout",
     "output_type": "stream",
     "text": [
      "<a href=\"https://open.gsa.gov/api/dap/\" rel=\"noopener\" target=\"_blank\">API</a>\n",
      "<a href=\"https://analytics.usa.gov/data/live/all-pages-realtime.csv\">Download the full dataset.</a>\n",
      "<a href=\"https://analytics.usa.gov/data/live/all-domains-30-days.csv\">Download the full dataset.</a>\n",
      "<a class=\"external-link\" href=\"https://digital.gov/services/dap/\">Digital Analytics Program</a>\n",
      "<a class=\"external-link\" href=\"https://digital.gov/services/dap/common-questions-about-dap-faq/#part-4\">does not track individuals</a>\n",
      "<a class=\"external-link\" href=\"https://support.google.com/analytics/answer/2763052?hl=en\">anonymizes the IP addresses</a>\n",
      "<a class=\"external-link\" href=\"https://analytics.usa.gov/data/live/second-level-domains.csv\">400 executive branch government domains</a>\n",
      "<a class=\"external-link\" href=\"https://analytics.usa.gov/data/live/sites.csv\">about 5,700 total websites</a>\n",
      "<a href=\"https://open.gsa.gov/api/dap/\" rel=\"noopener\" target=\"_blank\">API</a>\n",
      "<a class=\"usa-button usa-button-secondary-inverse\" href=\"https://github.com/18F/analytics.usa.gov/issues\">\n",
      "<img alt=\"Github Icon\" class=\"github-icon\" src=\"/images/github-logo-white.svg\"/>\n",
      "                  Suggest a feature or report an issue\n",
      "            </a>\n",
      "<a href=\"https://github.com/18F/analytics.usa.gov\">\n",
      "<img alt=\"Github Icon\" class=\"github-icon\" src=\"/images/github-logo.svg\"/>\n",
      "              View application code on GitHub</a>\n",
      "<a href=\"https://github.com/18F/analytics-reporter\">\n",
      "<img alt=\"Github Icon\" class=\"github-icon\" src=\"/images/github-logo.svg\"/>\n",
      "              View code for the data on GitHub</a>\n",
      "<a href=\"https://www.gsa.gov/\">\n",
      "<img alt=\"GSA\" src=\"/images/gsa-logo.svg\"/>\n",
      "</a>\n",
      "<a href=\"https://digital.gov/guides/dap/\">Digital Analytics Program</a>\n",
      "<a href=\"https://cloud.gov/\">cloud.gov</a>\n"
     ]
    },
    {
     "data": {
      "text/plain": [
       "bs4.element.Tag"
      ]
     },
     "execution_count": 91,
     "metadata": {},
     "output_type": "execute_result"
    }
   ],
   "source": [
    "# find the 'a' tags with attribute 'href' with http in the text\n",
    "for link in soup.find_all('a', attrs = {'href': re.compile(\"^http\")}):\n",
    "    print(link)\n",
    "type(link)\n",
    "    "
   ]
  },
  {
   "cell_type": "code",
   "execution_count": 92,
   "id": "aee4a18e",
   "metadata": {},
   "outputs": [
    {
     "name": "stdout",
     "output_type": "stream",
     "text": [
      "<a href=\"https://open.gsa.gov/api/dap/\" rel=\"noopener\" target=\"_blank\">API</a>\n",
      "<a href=\"https://analytics.usa.gov/data/live/all-pages-realtime.csv\">Download the full dataset.</a>\n",
      "<a href=\"https://analytics.usa.gov/data/live/all-domains-30-days.csv\">Download the full dataset.</a>\n",
      "<a class=\"external-link\" href=\"https://digital.gov/services/dap/\">Digital Analytics Program</a>\n",
      "<a class=\"external-link\" href=\"https://digital.gov/services/dap/common-questions-about-dap-faq/#part-4\">does not track individuals</a>\n",
      "<a class=\"external-link\" href=\"https://support.google.com/analytics/answer/2763052?hl=en\">anonymizes the IP addresses</a>\n",
      "<a class=\"external-link\" href=\"https://analytics.usa.gov/data/live/second-level-domains.csv\">400 executive branch government domains</a>\n",
      "<a class=\"external-link\" href=\"https://analytics.usa.gov/data/live/sites.csv\">about 5,700 total websites</a>\n",
      "<a href=\"https://open.gsa.gov/api/dap/\" rel=\"noopener\" target=\"_blank\">API</a>\n",
      "<a class=\"usa-button usa-button-secondary-inverse\" href=\"https://github.com/18F/analytics.usa.gov/issues\">\n",
      "<img alt=\"Github Icon\" class=\"github-icon\" src=\"/images/github-logo-white.svg\"/>\n",
      "                  Suggest a feature or report an issue\n",
      "            </a>\n",
      "<a href=\"https://github.com/18F/analytics.usa.gov\">\n",
      "<img alt=\"Github Icon\" class=\"github-icon\" src=\"/images/github-logo.svg\"/>\n",
      "              View application code on GitHub</a>\n",
      "<a href=\"https://github.com/18F/analytics-reporter\">\n",
      "<img alt=\"Github Icon\" class=\"github-icon\" src=\"/images/github-logo.svg\"/>\n",
      "              View code for the data on GitHub</a>\n",
      "<a href=\"https://www.gsa.gov/\">\n",
      "<img alt=\"GSA\" src=\"/images/gsa-logo.svg\"/>\n",
      "</a>\n",
      "<a href=\"https://digital.gov/guides/dap/\">Digital Analytics Program</a>\n",
      "<a href=\"https://cloud.gov/\">cloud.gov</a>\n"
     ]
    }
   ],
   "source": [
    "# Save it into an external file\n",
    "file = open('parsed_data.txt','w')\n",
    "for link in soup.find_all('a', attrs = {'href': re.compile(\"^http\")}):\n",
    "    soup_link = str(link)\n",
    "    print(soup_link)\n",
    "    file.write(soup_link)\n",
    "    \n",
    "file.flush()\n",
    "file.close()"
   ]
  },
  {
   "cell_type": "code",
   "execution_count": 93,
   "id": "047d0edd",
   "metadata": {},
   "outputs": [
    {
     "data": {
      "text/plain": [
       "'C:\\\\Users\\\\Vibhanshu\\\\Documents\\\\GitHub\\\\Python For Data Science'"
      ]
     },
     "execution_count": 93,
     "metadata": {},
     "output_type": "execute_result"
    }
   ],
   "source": [
    "# gives the present working directory\n",
    "%pwd"
   ]
  },
  {
   "cell_type": "code",
   "execution_count": null,
   "id": "e9c4aeff",
   "metadata": {},
   "outputs": [],
   "source": []
  },
  {
   "cell_type": "markdown",
   "id": "443af44e",
   "metadata": {},
   "source": [
    "### Segment 5 - Introduction to NLP(Natural Language Processing)"
   ]
  },
  {
   "cell_type": "raw",
   "id": "39847e19",
   "metadata": {},
   "source": [
    "Sentence Tokenization - is the process of breaking down paragraphs or a complete ste of text into sentences.\n",
    "\n",
    "Word Tokenization - is the process of breaking down a paragraph,  sentence, or a complete text corpus into an array of words.\n",
    "\n",
    "Stop WOrds -  are extremely common(thus, general) words that add little to no meaning to a body of text at large. They can be thought of as a noise in the corpus of a body of text. eg.  and, in they, are etc\n",
    "Removing Stop WOrds - Since stop  words carry little to no meaning from within a large body of text, they are removed from the corpus. Advantages of removing these:\n",
    "    #. Removes Noise\n",
    "    #. Reduces the size of textual data to be analyzed\n",
    "    \n",
    "The module NLTK has a set of stop words already defined within it."
   ]
  },
  {
   "cell_type": "raw",
   "id": "1ed39958",
   "metadata": {},
   "source": [
    "Stemming - is the process for reducing the size of the corpus by converting words to their root word.\n",
    "It is basically a process for linguistc normalization.\n",
    "\n",
    "Stems - or word stems are parts of words.\n",
    "e.g.\n",
    "raw text: run, running, ran\n",
    "root word: run\n",
    "\n",
    "Root word: a stem word that may, or may not have meaning when taken alone. A root word from which other words are derived.\n",
    "The primary form of the word, upon which derivates are made.\n",
    "\n",
    "Base word: a stem word that has meaning even when taken alone. It is a base word that is used outright within a language, with only prefixes/suffixes being attached. It is the simplest form of a word\n"
   ]
  },
  {
   "cell_type": "raw",
   "id": "7f2bf60f",
   "metadata": {},
   "source": [
    "Lemmatizing - is the process of reducing a word to its base word.\n",
    "e.g \n",
    "Raw text: \"Better; Stemming -> Root word: \"Better\"; Lemmatizing -> Base word: \"Good\""
   ]
  },
  {
   "cell_type": "raw",
   "id": "8c507ffe",
   "metadata": {},
   "source": [
    "Part of Speech Tagging - The process of identifying a part of speech within a goven body of text\n"
   ]
  },
  {
   "cell_type": "markdown",
   "id": "6ca0392f",
   "metadata": {},
   "source": [
    "<b>An excrept of some part of speech tags:</b>"
   ]
  },
  {
   "cell_type": "raw",
   "id": "31f4b051",
   "metadata": {},
   "source": [
    "CC coordinating conjunction \n",
    "CD cardinal digit \n",
    "DT determiner \n",
    "EX existential there (like: “there is” … think of it like “there exists”) \n",
    "FW foreign word \n",
    "IN preposition/subordinating conjunction \n",
    "JJ adjective – ‘big’ \n",
    "JJR adjective, comparative – ‘bigger’ \n",
    "JJS adjective, superlative – ‘biggest’ \n",
    "LS list marker 1) \n",
    "MD modal – could, will \n",
    "NN noun, singular ‘- desk’ \n",
    "NNS noun plural – ‘desks’ \n",
    "NNP proper noun, singular – ‘Harrison’ \n",
    "NNPS proper noun, plural – ‘Americans’ \n",
    "PDT predeterminer – ‘all the kids’ \n",
    "POS possessive ending parent’s \n",
    "PRP personal pronoun –  I, he, she \n",
    "PRP$ possessive pronoun – my, his, hers \n",
    "RB adverb – very, silently, \n",
    "RBR adverb, comparative – better \n",
    "RBS adverb, superlative – best \n",
    "RP particle – give up \n",
    "TO – to go ‘to’ the store. \n",
    "UH interjection – errrrrrrrm \n",
    "VB verb, base form – take \n",
    "VBD verb, past tense – took \n",
    "VBG verb, gerund/present participle – taking \n",
    "VBN verb, past participle – taken \n",
    "VBP verb, sing. present, non-3d – take \n",
    "VBZ verb, 3rd person sing. present – takes \n",
    "WDT wh-determiner – which \n",
    "WP wh-pronoun – who, what \n",
    "WP$ possessive wh-pronoun, eg- whose \n",
    "WRB wh-adverb, eg- where, when"
   ]
  },
  {
   "cell_type": "raw",
   "id": "2ea00398",
   "metadata": {},
   "source": [
    "Frequency Distribution Plotting : is the initial step towards quantifying a textual corpus.\n",
    "It counts and plots the frequency of words in a given text.\n",
    "\n",
    "Why it matters? - As this can be used for sentiment analysis and to understand the distribution of words in a body of text."
   ]
  },
  {
   "cell_type": "code",
   "execution_count": 94,
   "id": "afc5be0b",
   "metadata": {},
   "outputs": [],
   "source": [
    "import nltk"
   ]
  },
  {
   "cell_type": "code",
   "execution_count": 95,
   "id": "c09eaa59",
   "metadata": {},
   "outputs": [],
   "source": [
    "text = \"On Wednesday, the Association for Computing Machinery, the world’s largest society of computing professionals, announced that Hinton, LeCun and Bengio had won this year’s Turing Award for their work on neural networks. The Turing Award, which was introduced in 1966, is often called the Nobel Prize of computing, and it includes a $1 million prize, which the three scientists will share.\""
   ]
  },
  {
   "cell_type": "code",
   "execution_count": 96,
   "id": "5e9d208d",
   "metadata": {},
   "outputs": [
    {
     "name": "stderr",
     "output_type": "stream",
     "text": [
      "[nltk_data] Downloading package punkt to\n",
      "[nltk_data]     C:\\Users\\Vibhanshu\\AppData\\Roaming\\nltk_data...\n",
      "[nltk_data]   Unzipping tokenizers\\punkt.zip.\n"
     ]
    },
    {
     "data": {
      "text/plain": [
       "True"
      ]
     },
     "execution_count": 96,
     "metadata": {},
     "output_type": "execute_result"
    }
   ],
   "source": [
    "# importing the sentence tokenizer\n",
    "nltk.download('punkt')"
   ]
  },
  {
   "cell_type": "markdown",
   "id": "d7db3592",
   "metadata": {},
   "source": [
    "#### Sentence Tokenizer"
   ]
  },
  {
   "cell_type": "code",
   "execution_count": 98,
   "id": "90755e31",
   "metadata": {},
   "outputs": [
    {
     "name": "stdout",
     "output_type": "stream",
     "text": [
      "Sentence Tokenizing the text: \n",
      "\n",
      "['On Wednesday, the Association for Computing Machinery, the world’s largest society of computing professionals, announced that Hinton, LeCun and Bengio had won this year’s Turing Award for their work on neural networks.', 'The Turing Award, which was introduced in 1966, is often called the Nobel Prize of computing, and it includes a $1 million prize, which the three scientists will share.']\n"
     ]
    }
   ],
   "source": [
    "from nltk.tokenize import sent_tokenize\n",
    "sent_tk =  sent_tokenize(text)\n",
    "print('Sentence Tokenizing the text: \\n')\n",
    "print(sent_tk)"
   ]
  },
  {
   "cell_type": "markdown",
   "id": "335e579a",
   "metadata": {},
   "source": [
    "#### Word Tokenizer"
   ]
  },
  {
   "cell_type": "code",
   "execution_count": 100,
   "id": "5b8aa763",
   "metadata": {},
   "outputs": [
    {
     "name": "stdout",
     "output_type": "stream",
     "text": [
      "Word Tokenizing the text: \n",
      "\n",
      "['On', 'Wednesday', ',', 'the', 'Association', 'for', 'Computing', 'Machinery', ',', 'the', 'world', '’', 's', 'largest', 'society', 'of', 'computing', 'professionals', ',', 'announced', 'that', 'Hinton', ',', 'LeCun', 'and', 'Bengio', 'had', 'won', 'this', 'year', '’', 's', 'Turing', 'Award', 'for', 'their', 'work', 'on', 'neural', 'networks', '.', 'The', 'Turing', 'Award', ',', 'which', 'was', 'introduced', 'in', '1966', ',', 'is', 'often', 'called', 'the', 'Nobel', 'Prize', 'of', 'computing', ',', 'and', 'it', 'includes', 'a', '$', '1', 'million', 'prize', ',', 'which', 'the', 'three', 'scientists', 'will', 'share', '.']\n"
     ]
    }
   ],
   "source": [
    "from nltk.tokenize import word_tokenize\n",
    "word_tk =  word_tokenize(text)\n",
    "print('Word Tokenizing the text: \\n')\n",
    "print(word_tk)"
   ]
  },
  {
   "cell_type": "code",
   "execution_count": null,
   "id": "bb74915c",
   "metadata": {},
   "outputs": [],
   "source": []
  },
  {
   "cell_type": "code",
   "execution_count": null,
   "id": "ec93732d",
   "metadata": {},
   "outputs": [],
   "source": []
  },
  {
   "cell_type": "markdown",
   "id": "4e02f038",
   "metadata": {},
   "source": [
    "### Segment 6 - Cleaning and Stemming textual data"
   ]
  },
  {
   "cell_type": "markdown",
   "id": "62405e4d",
   "metadata": {},
   "source": [
    "#### Removing Stop words"
   ]
  },
  {
   "cell_type": "code",
   "execution_count": 102,
   "id": "cba78a21",
   "metadata": {},
   "outputs": [
    {
     "name": "stderr",
     "output_type": "stream",
     "text": [
      "[nltk_data] Downloading package stopwords to\n",
      "[nltk_data]     C:\\Users\\Vibhanshu\\AppData\\Roaming\\nltk_data...\n",
      "[nltk_data]   Unzipping corpora\\stopwords.zip.\n"
     ]
    },
    {
     "data": {
      "text/plain": [
       "True"
      ]
     },
     "execution_count": 102,
     "metadata": {},
     "output_type": "execute_result"
    }
   ],
   "source": [
    "nltk.download('stopwords')"
   ]
  },
  {
   "cell_type": "code",
   "execution_count": 104,
   "id": "b5d25701",
   "metadata": {},
   "outputs": [
    {
     "name": "stdout",
     "output_type": "stream",
     "text": [
      "Stop Words in English Language: \n",
      "\n",
      "{'here', 'mustn', 'then', 'am', 'had', 'those', \"haven't\", 're', 'was', 'themselves', \"you'll\", 'ain', 's', 'what', 'if', 'himself', 'only', 'were', 'how', 'above', 'about', 'you', 'o', \"hadn't\", 'all', 'few', 'against', 'having', 'm', 'yourself', 'we', \"you'd\", 'each', 'to', 'a', 'are', 'once', 'aren', 'won', 'for', 'she', 'there', 'some', 'should', 'because', 'whom', 'these', 'd', 'is', 'as', 'own', 'any', 'him', 'just', 'again', 'll', 'so', 'don', 'over', 'myself', \"it's\", 'other', 'theirs', 'off', 'but', 'his', 'through', 'their', 'has', 'couldn', 'most', 'does', 'before', \"she's\", 'than', \"mightn't\", 'this', 'do', 'up', 'during', \"isn't\", \"wasn't\", 'and', 'hadn', 'no', 'too', 'hers', \"should've\", 'the', 'doing', 'they', 'or', 'below', 'both', 'needn', \"you're\", \"didn't\", \"don't\", 'of', \"needn't\", 'on', 'didn', 'out', 'be', 'isn', 'ourselves', 'them', 'wouldn', 'me', 'ma', \"you've\", 'herself', 'which', 'very', \"shouldn't\", 'yourselves', 'doesn', 'after', 'hasn', 'yours', 'shan', 'under', 'nor', 'haven', 'y', 'when', 'weren', \"won't\", 'her', \"shan't\", 'at', 'i', 'into', 'more', \"hasn't\", 'that', 'by', \"that'll\", 'itself', \"weren't\", \"wouldn't\", 'where', 'while', 'such', 'shouldn', 'in', 'have', 'who', 'your', 'between', \"doesn't\", 'from', \"aren't\", 'why', 'its', 'being', 'can', 've', 'with', 'it', \"couldn't\", 'wasn', 'our', 'did', 'an', 'ours', 'he', 'been', 't', 'will', 'my', 'further', 'not', 'down', 'mightn', \"mustn't\", 'now', 'same', 'until'}\n"
     ]
    }
   ],
   "source": [
    "from nltk.corpus import stopwords\n",
    "\n",
    "sw = set(stopwords.words('English')) # getting the English language stopwords\n",
    "print('Stop Words in English Language: \\n')\n",
    "print(sw)"
   ]
  },
  {
   "cell_type": "code",
   "execution_count": 106,
   "id": "bb33e5c2",
   "metadata": {},
   "outputs": [
    {
     "name": "stdout",
     "output_type": "stream",
     "text": [
      "The text after removing stopwords: \n",
      "\n",
      "['On', 'Wednesday', ',', 'Association', 'Computing', 'Machinery', ',', 'world', '’', 'largest', 'society', 'computing', 'professionals', ',', 'announced', 'Hinton', ',', 'LeCun', 'Bengio', 'year', '’', 'Turing', 'Award', 'work', 'neural', 'networks', '.', 'The', 'Turing', 'Award', ',', 'introduced', '1966', ',', 'often', 'called', 'Nobel', 'Prize', 'computing', ',', 'includes', '$', '1', 'million', 'prize', ',', 'three', 'scientists', 'share', '.']\n"
     ]
    }
   ],
   "source": [
    "filtered_words = [w for w in word_tk if not w in sw]\n",
    "print('The text after removing stopwords: \\n')\n",
    "print(filtered_words)"
   ]
  },
  {
   "cell_type": "markdown",
   "id": "29fa51e9",
   "metadata": {},
   "source": [
    "#### Stemming"
   ]
  },
  {
   "cell_type": "code",
   "execution_count": 107,
   "id": "b1d9a1ad",
   "metadata": {},
   "outputs": [],
   "source": [
    "from nltk.stem import PorterStemmer\n",
    "from nltk.tokenize import sent_tokenize, word_tokenize\n",
    "\n",
    "port_stem = PorterStemmer()"
   ]
  },
  {
   "cell_type": "code",
   "execution_count": 110,
   "id": "baa4aa3c",
   "metadata": {},
   "outputs": [
    {
     "name": "stdout",
     "output_type": "stream",
     "text": [
      "Filtered Sentence: \n",
      " ['On', 'Wednesday', ',', 'Association', 'Computing', 'Machinery', ',', 'world', '’', 'largest', 'society', 'computing', 'professionals', ',', 'announced', 'Hinton', ',', 'LeCun', 'Bengio', 'year', '’', 'Turing', 'Award', 'work', 'neural', 'networks', '.', 'The', 'Turing', 'Award', ',', 'introduced', '1966', ',', 'often', 'called', 'Nobel', 'Prize', 'computing', ',', 'includes', '$', '1', 'million', 'prize', ',', 'three', 'scientists', 'share', '.'] \n",
      "\n",
      "Stemmed Sentence: \n",
      " ['on', 'wednesday', ',', 'associ', 'comput', 'machineri', ',', 'world', '’', 'largest', 'societi', 'comput', 'profession', ',', 'announc', 'hinton', ',', 'lecun', 'bengio', 'year', '’', 'ture', 'award', 'work', 'neural', 'network', '.', 'the', 'ture', 'award', ',', 'introduc', '1966', ',', 'often', 'call', 'nobel', 'prize', 'comput', ',', 'includ', '$', '1', 'million', 'prize', ',', 'three', 'scientist', 'share', '.'] \n",
      "\n"
     ]
    }
   ],
   "source": [
    "stemmed_words = []\n",
    "for w in filtered_words:\n",
    "    stemmed_words.append(port_stem.stem(w))\n",
    "    \n",
    "print('Filtered Sentence: \\n', filtered_words, '\\n')\n",
    "print('Stemmed Sentence: \\n', stemmed_words, '\\n')"
   ]
  },
  {
   "cell_type": "markdown",
   "id": "5d5a4914",
   "metadata": {},
   "source": [
    "### Segment 7 - Lemmatizing and analyzing textual data"
   ]
  },
  {
   "cell_type": "code",
   "execution_count": 111,
   "id": "1e087db4",
   "metadata": {},
   "outputs": [
    {
     "name": "stderr",
     "output_type": "stream",
     "text": [
      "[nltk_data] Downloading package wordnet to\n",
      "[nltk_data]     C:\\Users\\Vibhanshu\\AppData\\Roaming\\nltk_data...\n"
     ]
    },
    {
     "data": {
      "text/plain": [
       "True"
      ]
     },
     "execution_count": 111,
     "metadata": {},
     "output_type": "execute_result"
    }
   ],
   "source": [
    "nltk.download('wordnet')"
   ]
  },
  {
   "cell_type": "code",
   "execution_count": 115,
   "id": "79d7d66e",
   "metadata": {},
   "outputs": [
    {
     "name": "stderr",
     "output_type": "stream",
     "text": [
      "[nltk_data] Downloading package omw-1.4 to\n",
      "[nltk_data]     C:\\Users\\Vibhanshu\\AppData\\Roaming\\nltk_data...\n"
     ]
    },
    {
     "data": {
      "text/plain": [
       "True"
      ]
     },
     "execution_count": 115,
     "metadata": {},
     "output_type": "execute_result"
    }
   ],
   "source": [
    "nltk.download('omw-1.4')"
   ]
  },
  {
   "cell_type": "code",
   "execution_count": 116,
   "id": "d3288995",
   "metadata": {},
   "outputs": [
    {
     "name": "stdout",
     "output_type": "stream",
     "text": [
      "['On', 'Wednesday', ',', 'Association', 'Computing', 'Machinery', ',', 'world', '’', 'largest', 'society', 'computing', 'professional', ',', 'announced', 'Hinton', ',', 'LeCun', 'Bengio', 'year', '’', 'Turing', 'Award', 'work', 'neural', 'network', '.', 'The', 'Turing', 'Award', ',', 'introduced', '1966', ',', 'often', 'called', 'Nobel', 'Prize', 'computing', ',', 'includes', '$', '1', 'million', 'prize', ',', 'three', 'scientist', 'share', '.']\n"
     ]
    }
   ],
   "source": [
    "from nltk.stem.wordnet import WordNetLemmatizer\n",
    "\n",
    "lem = WordNetLemmatizer()\n",
    "\n",
    "from nltk.stem.porter import PorterStemmer\n",
    "stem = PorterStemmer()\n",
    "\n",
    "lemm_words = []\n",
    "\n",
    "for i in range(len(filtered_words)):\n",
    "    lemm_words.append(lem.lemmatize(filtered_words[i]))\n",
    "    \n",
    "print(lemm_words)"
   ]
  },
  {
   "cell_type": "markdown",
   "id": "4b310a63",
   "metadata": {},
   "source": [
    "#### Parts of Speech Tagging"
   ]
  },
  {
   "cell_type": "code",
   "execution_count": 120,
   "id": "3831fbfe",
   "metadata": {},
   "outputs": [
    {
     "name": "stderr",
     "output_type": "stream",
     "text": [
      "[nltk_data] Downloading package averaged_perceptron_tagger to\n",
      "[nltk_data]     C:\\Users\\Vibhanshu\\AppData\\Roaming\\nltk_data...\n",
      "[nltk_data]   Package averaged_perceptron_tagger is already up-to-\n",
      "[nltk_data]       date!\n"
     ]
    },
    {
     "data": {
      "text/plain": [
       "True"
      ]
     },
     "execution_count": 120,
     "metadata": {},
     "output_type": "execute_result"
    }
   ],
   "source": [
    "nltk.download('averaged_perceptron_tagger')"
   ]
  },
  {
   "cell_type": "code",
   "execution_count": 121,
   "id": "cee130cc",
   "metadata": {},
   "outputs": [
    {
     "name": "stdout",
     "output_type": "stream",
     "text": [
      "[('On', 'IN'), ('Wednesday', 'NNP'), (',', ','), ('the', 'DT'), ('Association', 'NNP'), ('for', 'IN'), ('Computing', 'VBG'), ('Machinery', 'NNP'), (',', ','), ('the', 'DT'), ('world', 'NN'), ('’', 'NNP'), ('s', 'RB'), ('largest', 'JJS'), ('society', 'NN'), ('of', 'IN'), ('computing', 'VBG'), ('professionals', 'NNS'), (',', ','), ('announced', 'VBD'), ('that', 'IN'), ('Hinton', 'NNP'), (',', ','), ('LeCun', 'NNP'), ('and', 'CC'), ('Bengio', 'NNP'), ('had', 'VBD'), ('won', 'VBN'), ('this', 'DT'), ('year', 'NN'), ('’', 'VBZ'), ('s', 'JJ'), ('Turing', 'NNP'), ('Award', 'NNP'), ('for', 'IN'), ('their', 'PRP$'), ('work', 'NN'), ('on', 'IN'), ('neural', 'JJ'), ('networks', 'NNS'), ('.', '.'), ('The', 'DT'), ('Turing', 'NNP'), ('Award', 'NNP'), (',', ','), ('which', 'WDT'), ('was', 'VBD'), ('introduced', 'VBN'), ('in', 'IN'), ('1966', 'CD'), (',', ','), ('is', 'VBZ'), ('often', 'RB'), ('called', 'VBN'), ('the', 'DT'), ('Nobel', 'NNP'), ('Prize', 'NNP'), ('of', 'IN'), ('computing', 'NN'), (',', ','), ('and', 'CC'), ('it', 'PRP'), ('includes', 'VBZ'), ('a', 'DT'), ('$', '$'), ('1', 'CD'), ('million', 'CD'), ('prize', 'NN'), (',', ','), ('which', 'WDT'), ('the', 'DT'), ('three', 'CD'), ('scientists', 'NNS'), ('will', 'MD'), ('share', 'NN'), ('.', '.')]\n"
     ]
    }
   ],
   "source": [
    "from nltk import pos_tag\n",
    "pos_tagged_words = pos_tag(word_tk)\n",
    "\n",
    "print(pos_tagged_words)"
   ]
  },
  {
   "cell_type": "markdown",
   "id": "19d35590",
   "metadata": {},
   "source": [
    "#### Frequency distribution plots"
   ]
  },
  {
   "cell_type": "code",
   "execution_count": 122,
   "id": "e6cfb2ca",
   "metadata": {},
   "outputs": [
    {
     "name": "stdout",
     "output_type": "stream",
     "text": [
      "<FreqDist with 56 samples and 76 outcomes>\n"
     ]
    }
   ],
   "source": [
    "from nltk.probability import FreqDist\n",
    "fd = FreqDist(word_tk)\n",
    "print(fd)"
   ]
  },
  {
   "cell_type": "code",
   "execution_count": 126,
   "id": "5205db2d",
   "metadata": {},
   "outputs": [
    {
     "data": {
      "image/png": "[encoded data removed]",
      "text/plain": [
       "<Figure size 640x480 with 1 Axes>"
      ]
     },
     "metadata": {},
     "output_type": "display_data"
    }
   ],
   "source": [
    "import matplotlib.pyplot as plt\n",
    "fd.plot(35, cumulative=False) # parameters -> (Number of elements, no cumulative results)\n",
    "plt.show()"
   ]
  },
  {
   "cell_type": "code",
   "execution_count": 127,
   "id": "f41f7fae",
   "metadata": {},
   "outputs": [
    {
     "name": "stdout",
     "output_type": "stream",
     "text": [
      "<FreqDist with 41 samples and 387 outcomes>\n"
     ]
    },
    {
     "data": {
      "image/png": "[encoded data removed]",
      "text/plain": [
       "<Figure size 640x480 with 1 Axes>"
      ]
     },
     "metadata": {},
     "output_type": "display_data"
    }
   ],
   "source": [
    "# Freq Dist of the alphaets\n",
    "fd_alpha = FreqDist(text)\n",
    "print(fd_alpha)\n",
    "fd_alpha.plot(30, cumulative=False)\n",
    "plt.show()"
   ]
  },
  {
   "cell_type": "code",
   "execution_count": null,
   "id": "1254a15b",
   "metadata": {},
   "outputs": [],
   "source": []
  }
 ],
 "metadata": {
  "kernelspec": {
   "display_name": "Python 3 (ipykernel)",
   "language": "python",
   "name": "python3"
  },
  "language_info": {
   "codemirror_mode": {
    "name": "ipython",
    "version": 3
   },
   "file_extension": ".py",
   "mimetype": "text/x-python",
   "name": "python",
   "nbconvert_exporter": "python",
   "pygments_lexer": "ipython3",
   "version": "3.11.3"
  }
 },
 "nbformat": 4,
 "nbformat_minor": 5
}
