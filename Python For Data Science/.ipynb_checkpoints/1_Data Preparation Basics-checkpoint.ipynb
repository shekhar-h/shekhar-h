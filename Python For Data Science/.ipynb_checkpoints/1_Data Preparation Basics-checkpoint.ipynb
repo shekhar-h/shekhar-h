{
 "cells": [
  {
   "cell_type": "markdown",
   "id": "0f63b6ce",
   "metadata": {},
   "source": [
    "### Segment 1 - Filtering and selecting Data"
   ]
  },
  {
   "cell_type": "code",
   "execution_count": 1,
   "id": "a536977d",
   "metadata": {},
   "outputs": [],
   "source": [
    "import numpy as np\n",
    "import pandas as pd\n",
    "\n",
    "from pandas import Series, DataFrame"
   ]
  },
  {
   "cell_type": "markdown",
   "id": "70879bc8",
   "metadata": {},
   "source": [
    "#### Selecting and Retrieving Data\n",
    "We can write the index values in 2 forms:\n",
    "- Label Index\n",
    "- Integer Index"
   ]
  },
  {
   "cell_type": "code",
   "execution_count": 11,
   "id": "3740d525",
   "metadata": {},
   "outputs": [
    {
     "name": "stdout",
     "output_type": "stream",
     "text": [
      "row 1    0\n",
      "row 2    1\n",
      "row 3    2\n",
      "row 4    3\n",
      "row 5    4\n",
      "row 6    5\n",
      "row 7    6\n",
      "row 8    7\n",
      "dtype: int32\n"
     ]
    }
   ],
   "source": [
    "series_obj = Series(np.arange(8), index = ['row 1','row 2','row 3','row 4','row 5','row 6','row 7','row 8'])\n",
    "print(series_obj)"
   ]
  },
  {
   "cell_type": "code",
   "execution_count": 4,
   "id": "f75d39dd",
   "metadata": {},
   "outputs": [
    {
     "data": {
      "text/plain": [
       "4"
      ]
     },
     "execution_count": 4,
     "metadata": {},
     "output_type": "execute_result"
    }
   ],
   "source": [
    "# Label Index\n",
    "series_obj['row5']"
   ]
  },
  {
   "cell_type": "code",
   "execution_count": 6,
   "id": "8c27cf2b",
   "metadata": {},
   "outputs": [
    {
     "data": {
      "text/plain": [
       "row2    1\n",
       "row5    4\n",
       "dtype: int32"
      ]
     },
     "execution_count": 6,
     "metadata": {},
     "output_type": "execute_result"
    }
   ],
   "source": [
    "# Integer Index\n",
    "series_obj[[1,4]]"
   ]
  },
  {
   "cell_type": "code",
   "execution_count": 7,
   "id": "076015d6",
   "metadata": {},
   "outputs": [
    {
     "name": "stdout",
     "output_type": "stream",
     "text": [
      "          col 1     col 2     col 3     col 4     col 5     col 6\n",
      "row 1  0.870124  0.582277  0.278839  0.185911  0.411100  0.117376\n",
      "row 2  0.684969  0.437611  0.556229  0.367080  0.402366  0.113041\n",
      "row 3  0.447031  0.585445  0.161985  0.520719  0.326051  0.699186\n",
      "row 4  0.366395  0.836375  0.481343  0.516502  0.383048  0.997541\n",
      "row 5  0.514244  0.559053  0.034450  0.719930  0.421004  0.436935\n",
      "row 6  0.281701  0.900274  0.669612  0.456069  0.289804  0.525819\n"
     ]
    }
   ],
   "source": [
    "# Creating a dataframe using random number generator\n",
    "np.random.seed(25)\n",
    "DF_obj = pd.DataFrame(np.random.rand(36).reshape((6,6)),\n",
    "                     index = ['row 1','row 2','row 3','row 4','row 5','row 6'],\n",
    "                     columns = ['col 1','col 2','col 3', 'col 4', 'col 5', 'col 6'])\n",
    "print(DF_obj)"
   ]
  },
  {
   "cell_type": "code",
   "execution_count": 9,
   "id": "64f6aac6",
   "metadata": {},
   "outputs": [
    {
     "data": {
      "text/html": [
       "<div>\n",
       "<style scoped>\n",
       "    .dataframe tbody tr th:only-of-type {\n",
       "        vertical-align: middle;\n",
       "    }\n",
       "\n",
       "    .dataframe tbody tr th {\n",
       "        vertical-align: top;\n",
       "    }\n",
       "\n",
       "    .dataframe thead th {\n",
       "        text-align: right;\n",
       "    }\n",
       "</style>\n",
       "<table border=\"1\" class=\"dataframe\">\n",
       "  <thead>\n",
       "    <tr style=\"text-align: right;\">\n",
       "      <th></th>\n",
       "      <th>col 5</th>\n",
       "      <th>col 2</th>\n",
       "    </tr>\n",
       "  </thead>\n",
       "  <tbody>\n",
       "    <tr>\n",
       "      <th>row 2</th>\n",
       "      <td>0.402366</td>\n",
       "      <td>0.437611</td>\n",
       "    </tr>\n",
       "    <tr>\n",
       "      <th>row 5</th>\n",
       "      <td>0.421004</td>\n",
       "      <td>0.559053</td>\n",
       "    </tr>\n",
       "  </tbody>\n",
       "</table>\n",
       "</div>"
      ],
      "text/plain": [
       "          col 5     col 2\n",
       "row 2  0.402366  0.437611\n",
       "row 5  0.421004  0.559053"
      ]
     },
     "execution_count": 9,
     "metadata": {},
     "output_type": "execute_result"
    }
   ],
   "source": [
    "# The .loc method takes 2 parameters here - 1-> name of rows, 2-> name of columns\n",
    "DF_obj.loc[['row 2', 'row 5'], ['col 5', 'col 2']]"
   ]
  },
  {
   "cell_type": "markdown",
   "id": "f89ca4ba",
   "metadata": {},
   "source": [
    "#### Data Slicing\n",
    "We can use slicing to select and return a slice of several values from a data set.\n",
    "\n",
    "In Slicing, we pass 2 index values that are separated by a colon. The indexer thenreturns those 2 values and everything between them."
   ]
  },
  {
   "cell_type": "code",
   "execution_count": 12,
   "id": "3ec52a94",
   "metadata": {},
   "outputs": [
    {
     "data": {
      "text/plain": [
       "row 2    1\n",
       "row 3    2\n",
       "row 4    3\n",
       "row 5    4\n",
       "row 6    5\n",
       "dtype: int32"
      ]
     },
     "execution_count": 12,
     "metadata": {},
     "output_type": "execute_result"
    }
   ],
   "source": [
    "series_obj['row 2':'row 6']"
   ]
  },
  {
   "cell_type": "markdown",
   "id": "c058572b",
   "metadata": {},
   "source": [
    "#### Comparing with Scalars\n",
    "We can use comparison operators like greater than(>) or less than(<) to return True/False for all records to indicate how each element compares to a scalar value( a single numeric value)."
   ]
  },
  {
   "cell_type": "code",
   "execution_count": 16,
   "id": "3470b7c5",
   "metadata": {},
   "outputs": [
    {
     "data": {
      "text/html": [
       "<div>\n",
       "<style scoped>\n",
       "    .dataframe tbody tr th:only-of-type {\n",
       "        vertical-align: middle;\n",
       "    }\n",
       "\n",
       "    .dataframe tbody tr th {\n",
       "        vertical-align: top;\n",
       "    }\n",
       "\n",
       "    .dataframe thead th {\n",
       "        text-align: right;\n",
       "    }\n",
       "</style>\n",
       "<table border=\"1\" class=\"dataframe\">\n",
       "  <thead>\n",
       "    <tr style=\"text-align: right;\">\n",
       "      <th></th>\n",
       "      <th>col 1</th>\n",
       "      <th>col 2</th>\n",
       "      <th>col 3</th>\n",
       "      <th>col 4</th>\n",
       "      <th>col 5</th>\n",
       "      <th>col 6</th>\n",
       "    </tr>\n",
       "  </thead>\n",
       "  <tbody>\n",
       "    <tr>\n",
       "      <th>row 1</th>\n",
       "      <td>False</td>\n",
       "      <td>False</td>\n",
       "      <td>True</td>\n",
       "      <td>True</td>\n",
       "      <td>False</td>\n",
       "      <td>True</td>\n",
       "    </tr>\n",
       "    <tr>\n",
       "      <th>row 2</th>\n",
       "      <td>False</td>\n",
       "      <td>False</td>\n",
       "      <td>False</td>\n",
       "      <td>False</td>\n",
       "      <td>False</td>\n",
       "      <td>True</td>\n",
       "    </tr>\n",
       "    <tr>\n",
       "      <th>row 3</th>\n",
       "      <td>False</td>\n",
       "      <td>False</td>\n",
       "      <td>True</td>\n",
       "      <td>False</td>\n",
       "      <td>False</td>\n",
       "      <td>False</td>\n",
       "    </tr>\n",
       "    <tr>\n",
       "      <th>row 4</th>\n",
       "      <td>False</td>\n",
       "      <td>False</td>\n",
       "      <td>False</td>\n",
       "      <td>False</td>\n",
       "      <td>False</td>\n",
       "      <td>False</td>\n",
       "    </tr>\n",
       "    <tr>\n",
       "      <th>row 5</th>\n",
       "      <td>False</td>\n",
       "      <td>False</td>\n",
       "      <td>True</td>\n",
       "      <td>False</td>\n",
       "      <td>False</td>\n",
       "      <td>False</td>\n",
       "    </tr>\n",
       "    <tr>\n",
       "      <th>row 6</th>\n",
       "      <td>True</td>\n",
       "      <td>False</td>\n",
       "      <td>False</td>\n",
       "      <td>False</td>\n",
       "      <td>True</td>\n",
       "      <td>False</td>\n",
       "    </tr>\n",
       "  </tbody>\n",
       "</table>\n",
       "</div>"
      ],
      "text/plain": [
       "       col 1  col 2  col 3  col 4  col 5  col 6\n",
       "row 1  False  False   True   True  False   True\n",
       "row 2  False  False  False  False  False   True\n",
       "row 3  False  False   True  False  False  False\n",
       "row 4  False  False  False  False  False  False\n",
       "row 5  False  False   True  False  False  False\n",
       "row 6   True  False  False  False   True  False"
      ]
     },
     "execution_count": 16,
     "metadata": {},
     "output_type": "execute_result"
    }
   ],
   "source": [
    "DF_obj < 0.3"
   ]
  },
  {
   "cell_type": "markdown",
   "id": "4a59ff1f",
   "metadata": {},
   "source": [
    "#### Filtering with Scalars"
   ]
  },
  {
   "cell_type": "code",
   "execution_count": 20,
   "id": "4872fe42",
   "metadata": {},
   "outputs": [
    {
     "data": {
      "text/plain": [
       "row 6    5\n",
       "row 7    6\n",
       "row 8    7\n",
       "dtype: int32"
      ]
     },
     "execution_count": 20,
     "metadata": {},
     "output_type": "execute_result"
    }
   ],
   "source": [
    "series_obj[series_obj > 4]"
   ]
  },
  {
   "cell_type": "code",
   "execution_count": 22,
   "id": "28fc8d6c",
   "metadata": {},
   "outputs": [
    {
     "data": {
      "text/html": [
       "<div>\n",
       "<style scoped>\n",
       "    .dataframe tbody tr th:only-of-type {\n",
       "        vertical-align: middle;\n",
       "    }\n",
       "\n",
       "    .dataframe tbody tr th {\n",
       "        vertical-align: top;\n",
       "    }\n",
       "\n",
       "    .dataframe thead th {\n",
       "        text-align: right;\n",
       "    }\n",
       "</style>\n",
       "<table border=\"1\" class=\"dataframe\">\n",
       "  <thead>\n",
       "    <tr style=\"text-align: right;\">\n",
       "      <th></th>\n",
       "      <th>col 1</th>\n",
       "      <th>col 2</th>\n",
       "      <th>col 3</th>\n",
       "      <th>col 4</th>\n",
       "      <th>col 5</th>\n",
       "      <th>col 6</th>\n",
       "    </tr>\n",
       "  </thead>\n",
       "  <tbody>\n",
       "    <tr>\n",
       "      <th>row 1</th>\n",
       "      <td>NaN</td>\n",
       "      <td>NaN</td>\n",
       "      <td>0.278839</td>\n",
       "      <td>0.185911</td>\n",
       "      <td>NaN</td>\n",
       "      <td>0.117376</td>\n",
       "    </tr>\n",
       "    <tr>\n",
       "      <th>row 2</th>\n",
       "      <td>NaN</td>\n",
       "      <td>NaN</td>\n",
       "      <td>NaN</td>\n",
       "      <td>NaN</td>\n",
       "      <td>NaN</td>\n",
       "      <td>0.113041</td>\n",
       "    </tr>\n",
       "    <tr>\n",
       "      <th>row 3</th>\n",
       "      <td>NaN</td>\n",
       "      <td>NaN</td>\n",
       "      <td>0.161985</td>\n",
       "      <td>NaN</td>\n",
       "      <td>NaN</td>\n",
       "      <td>NaN</td>\n",
       "    </tr>\n",
       "    <tr>\n",
       "      <th>row 4</th>\n",
       "      <td>NaN</td>\n",
       "      <td>NaN</td>\n",
       "      <td>NaN</td>\n",
       "      <td>NaN</td>\n",
       "      <td>NaN</td>\n",
       "      <td>NaN</td>\n",
       "    </tr>\n",
       "    <tr>\n",
       "      <th>row 5</th>\n",
       "      <td>NaN</td>\n",
       "      <td>NaN</td>\n",
       "      <td>0.034450</td>\n",
       "      <td>NaN</td>\n",
       "      <td>NaN</td>\n",
       "      <td>NaN</td>\n",
       "    </tr>\n",
       "    <tr>\n",
       "      <th>row 6</th>\n",
       "      <td>0.281701</td>\n",
       "      <td>NaN</td>\n",
       "      <td>NaN</td>\n",
       "      <td>NaN</td>\n",
       "      <td>0.289804</td>\n",
       "      <td>NaN</td>\n",
       "    </tr>\n",
       "  </tbody>\n",
       "</table>\n",
       "</div>"
      ],
      "text/plain": [
       "          col 1  col 2     col 3     col 4     col 5     col 6\n",
       "row 1       NaN    NaN  0.278839  0.185911       NaN  0.117376\n",
       "row 2       NaN    NaN       NaN       NaN       NaN  0.113041\n",
       "row 3       NaN    NaN  0.161985       NaN       NaN       NaN\n",
       "row 4       NaN    NaN       NaN       NaN       NaN       NaN\n",
       "row 5       NaN    NaN  0.034450       NaN       NaN       NaN\n",
       "row 6  0.281701    NaN       NaN       NaN  0.289804       NaN"
      ]
     },
     "execution_count": 22,
     "metadata": {},
     "output_type": "execute_result"
    }
   ],
   "source": [
    "DF_obj[DF_obj<0.3]"
   ]
  },
  {
   "cell_type": "markdown",
   "id": "9ba38997",
   "metadata": {},
   "source": [
    "#### Setting values with scalars"
   ]
  },
  {
   "cell_type": "code",
   "execution_count": 30,
   "id": "fbd96579",
   "metadata": {},
   "outputs": [
    {
     "data": {
      "text/plain": [
       "row 1    8\n",
       "row 2    8\n",
       "row 3    2\n",
       "row 4    3\n",
       "row 5    4\n",
       "row 6    5\n",
       "row 7    6\n",
       "row 8    7\n",
       "dtype: int32"
      ]
     },
     "execution_count": 30,
     "metadata": {},
     "output_type": "execute_result"
    }
   ],
   "source": [
    "series_obj[['row 1', 'row 2']] = 8\n",
    "series_obj"
   ]
  },
  {
   "cell_type": "markdown",
   "id": "9fe6ca23",
   "metadata": {},
   "source": [
    "### Segment 2 - Treating Missing Values"
   ]
  },
  {
   "cell_type": "code",
   "execution_count": 2,
   "id": "d6b6cc38",
   "metadata": {},
   "outputs": [],
   "source": [
    "import pandas as pd\n",
    "import numpy as np\n"
   ]
  },
  {
   "cell_type": "markdown",
   "id": "f3fa870b",
   "metadata": {},
   "source": [
    "#### Figuring Out what data is missing"
   ]
  },
  {
   "cell_type": "code",
   "execution_count": 4,
   "id": "2cd7c299",
   "metadata": {},
   "outputs": [
    {
     "name": "stdout",
     "output_type": "stream",
     "text": [
      "0    row 1\n",
      "1    row 2\n",
      "2      NaN\n",
      "3    row 4\n",
      "4    row 5\n",
      "5    row 6\n",
      "6      NaN\n",
      "7    row 8\n",
      "dtype: object\n"
     ]
    }
   ],
   "source": [
    "missing = np.nan\n",
    "\n",
    "series_obj = pd.Series(['row 1', 'row 2', missing, 'row 4', 'row 5', 'row 6', missing, 'row 8'])\n",
    "print(series_obj)"
   ]
  },
  {
   "cell_type": "code",
   "execution_count": 6,
   "id": "68b9617b",
   "metadata": {},
   "outputs": [
    {
     "data": {
      "text/plain": [
       "0    False\n",
       "1    False\n",
       "2     True\n",
       "3    False\n",
       "4    False\n",
       "5    False\n",
       "6     True\n",
       "7    False\n",
       "dtype: bool"
      ]
     },
     "execution_count": 6,
     "metadata": {},
     "output_type": "execute_result"
    }
   ],
   "source": [
    "# Returns true for all indices that have NULL or missing values\n",
    "series_obj.isnull()"
   ]
  },
  {
   "cell_type": "markdown",
   "id": "bdd71f8e",
   "metadata": {},
   "source": [
    "#### Filling in for Missing Values"
   ]
  },
  {
   "cell_type": "code",
   "execution_count": 19,
   "id": "e07e1579",
   "metadata": {},
   "outputs": [
    {
     "name": "stdout",
     "output_type": "stream",
     "text": [
      "          0         1         2         3         4         5\n",
      "0  0.870124  0.582277  0.278839  0.185911  0.411100  0.117376\n",
      "1  0.684969  0.437611  0.556229  0.367080  0.402366  0.113041\n",
      "2  0.447031  0.585445  0.161985  0.520719  0.326051  0.699186\n",
      "3  0.366395  0.836375  0.481343  0.516502  0.383048  0.997541\n",
      "4  0.514244  0.559053  0.034450  0.719930  0.421004  0.436935\n",
      "5  0.281701  0.900274  0.669612  0.456069  0.289804  0.525819\n"
     ]
    }
   ],
   "source": [
    "np.random.seed(25)\n",
    "DF_obj = pd.DataFrame(np.random.rand(36).reshape(6,6)) # Returns a 6x6 dataframe with random values\n",
    "print(DF_obj)"
   ]
  },
  {
   "cell_type": "code",
   "execution_count": 20,
   "id": "ac1ef02a",
   "metadata": {},
   "outputs": [
    {
     "name": "stdout",
     "output_type": "stream",
     "text": [
      "          0         1         2         3         4         5\n",
      "0  0.870124  0.582277  0.278839  0.185911  0.411100  0.117376\n",
      "1  0.684969  0.437611  0.556229  0.367080  0.402366       NaN\n",
      "2  0.447031  0.585445  0.161985  0.520719  0.326051       NaN\n",
      "3       NaN  0.836375  0.481343  0.516502  0.383048       NaN\n",
      "4       NaN  0.559053  0.034450  0.719930  0.421004       NaN\n",
      "5       NaN  0.900274  0.669612  0.456069  0.289804  0.525819\n"
     ]
    }
   ],
   "source": [
    "DF_obj.loc[3:5,0] = missing\n",
    "DF_obj.loc[1:4,5] = missing\n",
    "print(DF_obj)"
   ]
  },
  {
   "cell_type": "code",
   "execution_count": 15,
   "id": "444ffd88",
   "metadata": {},
   "outputs": [
    {
     "name": "stdout",
     "output_type": "stream",
     "text": [
      "          0         1         2         3         4         5\n",
      "0  0.870124  0.582277  0.278839  0.185911  0.411100  0.117376\n",
      "1  0.684969  0.437611  0.556229  0.367080  0.402366  0.000000\n",
      "2  0.447031  0.585445  0.161985  0.520719  0.326051  0.000000\n",
      "3  0.000000  0.836375  0.481343  0.516502  0.383048  0.000000\n",
      "4  0.000000  0.559053  0.034450  0.719930  0.421004  0.000000\n",
      "5  0.000000  0.900274  0.669612  0.456069  0.289804  0.525819\n"
     ]
    }
   ],
   "source": [
    "filled_df = DF_obj.fillna(0)\n",
    "print(filled_df)"
   ]
  },
  {
   "cell_type": "code",
   "execution_count": 16,
   "id": "d9b7834f",
   "metadata": {},
   "outputs": [
    {
     "name": "stdout",
     "output_type": "stream",
     "text": [
      "          0         1         2         3         4         5\n",
      "0  0.870124  0.582277  0.278839  0.185911  0.411100  0.117376\n",
      "1  0.684969  0.437611  0.556229  0.367080  0.402366  1.250000\n",
      "2  0.447031  0.585445  0.161985  0.520719  0.326051  1.250000\n",
      "3  0.100000  0.836375  0.481343  0.516502  0.383048  1.250000\n",
      "4  0.100000  0.559053  0.034450  0.719930  0.421004  1.250000\n",
      "5  0.100000  0.900274  0.669612  0.456069  0.289804  0.525819\n"
     ]
    }
   ],
   "source": [
    "# Filling missing values on different columns with different values \n",
    "filled_df = DF_obj.fillna({0:0.1,5:1.25}) # the dict passed has the format col_num:new value - 0th column:value = 0.1\n",
    "print(filled_df)"
   ]
  },
  {
   "cell_type": "code",
   "execution_count": 17,
   "id": "46dbc57b",
   "metadata": {},
   "outputs": [
    {
     "name": "stdout",
     "output_type": "stream",
     "text": [
      "          0         1         2         3         4         5\n",
      "0  0.870124  0.582277  0.278839  0.185911  0.411100  0.117376\n",
      "1  0.684969  0.437611  0.556229  0.367080  0.402366  0.117376\n",
      "2  0.447031  0.585445  0.161985  0.520719  0.326051  0.117376\n",
      "3  0.447031  0.836375  0.481343  0.516502  0.383048  0.117376\n",
      "4  0.447031  0.559053  0.034450  0.719930  0.421004  0.117376\n",
      "5  0.447031  0.900274  0.669612  0.456069  0.289804  0.525819\n"
     ]
    }
   ],
   "source": [
    "filled_df = DF_obj.fillna(method='ffill')\n",
    "print(filled_df)"
   ]
  },
  {
   "cell_type": "markdown",
   "id": "42895599",
   "metadata": {},
   "source": [
    "#### Counting Missing values"
   ]
  },
  {
   "cell_type": "code",
   "execution_count": 22,
   "id": "a77166d3",
   "metadata": {},
   "outputs": [
    {
     "name": "stdout",
     "output_type": "stream",
     "text": [
      "          0         1         2         3         4         5\n",
      "0  0.870124  0.582277  0.278839  0.185911  0.411100  0.117376\n",
      "1  0.684969  0.437611  0.556229  0.367080  0.402366       NaN\n",
      "2  0.447031  0.585445  0.161985  0.520719  0.326051       NaN\n",
      "3       NaN  0.836375  0.481343  0.516502  0.383048       NaN\n",
      "4       NaN  0.559053  0.034450  0.719930  0.421004       NaN\n",
      "5       NaN  0.900274  0.669612  0.456069  0.289804  0.525819\n"
     ]
    }
   ],
   "source": [
    "np.random.seed(25)\n",
    "DF_obj = pd.DataFrame(np.random.rand(36).reshape(6,6)) # Returns a 6x6 dataframe with random values\n",
    "DF_obj.loc[3:5,0] = missing\n",
    "DF_obj.loc[1:4,5] = missing\n",
    "print(DF_obj)"
   ]
  },
  {
   "cell_type": "code",
   "execution_count": 23,
   "id": "dae14bd2",
   "metadata": {},
   "outputs": [
    {
     "data": {
      "text/plain": [
       "0    3\n",
       "1    0\n",
       "2    0\n",
       "3    0\n",
       "4    0\n",
       "5    4\n",
       "dtype: int64"
      ]
     },
     "execution_count": 23,
     "metadata": {},
     "output_type": "execute_result"
    }
   ],
   "source": [
    "# Returns number of Null values in each column\n",
    "DF_obj.isnull().sum()"
   ]
  },
  {
   "cell_type": "markdown",
   "id": "f9910395",
   "metadata": {},
   "source": [
    "#### Filtering out Missing Values"
   ]
  },
  {
   "cell_type": "code",
   "execution_count": 24,
   "id": "3d015c76",
   "metadata": {},
   "outputs": [
    {
     "name": "stdout",
     "output_type": "stream",
     "text": [
      "          0         1         2         3       4         5\n",
      "0  0.870124  0.582277  0.278839  0.185911  0.4111  0.117376\n"
     ]
    }
   ],
   "source": [
    "# All the rows with any Null values are dropped\n",
    "df_nonan = DF_obj.dropna()\n",
    "print(df_nonan)"
   ]
  },
  {
   "cell_type": "code",
   "execution_count": 25,
   "id": "9b9a7def",
   "metadata": {},
   "outputs": [
    {
     "name": "stdout",
     "output_type": "stream",
     "text": [
      "          1         2         3         4\n",
      "0  0.582277  0.278839  0.185911  0.411100\n",
      "1  0.437611  0.556229  0.367080  0.402366\n",
      "2  0.585445  0.161985  0.520719  0.326051\n",
      "3  0.836375  0.481343  0.516502  0.383048\n",
      "4  0.559053  0.034450  0.719930  0.421004\n",
      "5  0.900274  0.669612  0.456069  0.289804\n"
     ]
    }
   ],
   "source": [
    "# All the columns with any Null values are dropped\n",
    "df_nonan = DF_obj.dropna(axis=1)\n",
    "print(df_nonan)"
   ]
  },
  {
   "cell_type": "markdown",
   "id": "ebf912d2",
   "metadata": {},
   "source": [
    "#### Segment 3 - Removing Duplicates"
   ]
  },
  {
   "cell_type": "code",
   "execution_count": null,
   "id": "01dc63d9",
   "metadata": {},
   "outputs": [],
   "source": []
  }
 ],
 "metadata": {
  "kernelspec": {
   "display_name": "Python 3 (ipykernel)",
   "language": "python",
   "name": "python3"
  },
  "language_info": {
   "codemirror_mode": {
    "name": "ipython",
    "version": 3
   },
   "file_extension": ".py",
   "mimetype": "text/x-python",
   "name": "python",
   "nbconvert_exporter": "python",
   "pygments_lexer": "ipython3",
   "version": "3.11.3"
  }
 },
 "nbformat": 4,
 "nbformat_minor": 5
}
